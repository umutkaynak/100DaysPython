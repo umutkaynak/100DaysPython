{
 "cells": [
  {
   "attachments": {},
   "cell_type": "markdown",
   "metadata": {},
   "source": [
    "        CLASS OLUŞTURMA"
   ]
  },
  {
   "cell_type": "code",
   "execution_count": 1,
   "metadata": {},
   "outputs": [],
   "source": [
    "class User():\n",
    "    pass # sonraki satırda birşey yazmıyorsak direkt pass özelliği klullanılabilir.\n",
    "\n",
    "user=User()"
   ]
  },
  {
   "attachments": {},
   "cell_type": "markdown",
   "metadata": {},
   "source": [
    "class içinde değerler oluşturma"
   ]
  },
  {
   "cell_type": "code",
   "execution_count": 7,
   "metadata": {},
   "outputs": [],
   "source": [
    "user.id=\"111\"\n",
    "\n",
    "user.userName=\"kaynak\"\n",
    "\n",
    "#birkaç değişken için kolay gibi görünsede binlerde değişkende bu kadar kolay olmayabilir.\n"
   ]
  },
  {
   "cell_type": "code",
   "execution_count": 10,
   "metadata": {},
   "outputs": [
    {
     "name": "stdout",
     "output_type": "stream",
     "text": [
      "ilk sonuç\n"
     ]
    }
   ],
   "source": [
    "#bir diğer kullanım\n",
    "\n",
    "class User():\n",
    "    def __init__(self):\n",
    "        print(\"ilk sonuç\")\n",
    "\n",
    "user.id=\"111\"\n",
    "user=User()\n",
    "user.userName=\"kaynak\"\n",
    "\n",
    "#birkaç değişken için kolay gibi görünsede binlerde değişkende bu kadar kolay olmayabilir.\n",
    "\n",
    "\n"
   ]
  },
  {
   "cell_type": "code",
   "execution_count": 28,
   "metadata": {},
   "outputs": [
    {
     "data": {
      "text/plain": [
       "<__main__.Car at 0x237835ac790>"
      ]
     },
     "execution_count": 28,
     "metadata": {},
     "output_type": "execute_result"
    }
   ],
   "source": [
    "class Car():\n",
    "    def __init__(self,car,km,) :\n",
    "        self.car=car\n",
    "        self.km=km\n",
    "        self.model=2000\n",
    "\n",
    "car=Car(3,2)\n",
    "car"
   ]
  },
  {
   "cell_type": "code",
   "execution_count": 31,
   "metadata": {},
   "outputs": [
    {
     "name": "stdout",
     "output_type": "stream",
     "text": [
      "volvo 200\n",
      "Mercedes 240\n",
      "sabit değişken veya değper atamak için kullanılablir:  2000\n"
     ]
    }
   ],
   "source": [
    "user1=Car(\"volvo\",200)\n",
    "\n",
    "user2=Car(\"Mercedes\",240)\n",
    "print(user1.car,user1.km)\n",
    "print(user2.car,user2.km)\n",
    "print(\"sabit değişken veya değper atamak için kullanılablir: \",car.model)\n"
   ]
  },
  {
   "attachments": {},
   "cell_type": "markdown",
   "metadata": {},
   "source": [
    "        CLASS YAPISINA METOT EKLEME\n",
    "\n",
    "Nitelikler nesnelerin sahip olduğu değerleri, metot ise nesnenin yaptığı şeylerdir.\n",
    "        "
   ]
  },
  {
   "cell_type": "code",
   "execution_count": 44,
   "metadata": {},
   "outputs": [
    {
     "data": {
      "text/plain": [
       "<bound method Car.enter_raze of <__main__.Car object at 0x0000023783440F10>>"
      ]
     },
     "execution_count": 44,
     "metadata": {},
     "output_type": "execute_result"
    }
   ],
   "source": [
    "seats=5\n",
    "class Car():\n",
    "    def enter_raze():\n",
    "        seats=2\n",
    "        return seats\n",
    "    \n",
    "    \n",
    "\n",
    "myCar=Car()\n",
    "myCar.enter_raze"
   ]
  },
  {
   "cell_type": "code",
   "execution_count": 55,
   "metadata": {},
   "outputs": [
    {
     "name": "stdout",
     "output_type": "stream",
     "text": [
      "<__main__.Car object at 0x0000023783C03010>\n",
      "<__main__.Car object at 0x000002378345F3D0>\n",
      "0\n",
      "0\n"
     ]
    }
   ],
   "source": [
    "class Car():\n",
    "    def __init__(self,car,km,) :\n",
    "        self.car=car\n",
    "        self.km=km\n",
    "        self.model=0\n",
    "        self.cc=0\n",
    "\n",
    "    def follow(self,model):\n",
    "        car.model+=1\n",
    "        self.cc+=1\n",
    "\n",
    "car1=Car(\"volvo\",2004)\n",
    "car2=Car(\"bmw\",2003)\n",
    "print(car1)\n",
    "print(car2)\n",
    "car1.follow(car2)\n",
    "\n",
    "\n",
    "print(car1.model)\n",
    "print(car2.cc)"
   ]
  },
  {
   "cell_type": "code",
   "execution_count": 56,
   "metadata": {},
   "outputs": [
    {
     "name": "stdout",
     "output_type": "stream",
     "text": [
      "0\n",
      "1\n",
      "0\n",
      "0\n"
     ]
    }
   ],
   "source": [
    "print(car1.model)\n",
    "print(car1.cc)\n",
    "print(car2.model)\n",
    "print(car2.cc)\n",
    "\n"
   ]
  },
  {
   "cell_type": "code",
   "execution_count": null,
   "metadata": {},
   "outputs": [],
   "source": []
  }
 ],
 "metadata": {
  "kernelspec": {
   "display_name": "Python 3",
   "language": "python",
   "name": "python3"
  },
  "language_info": {
   "codemirror_mode": {
    "name": "ipython",
    "version": 3
   },
   "file_extension": ".py",
   "mimetype": "text/x-python",
   "name": "python",
   "nbconvert_exporter": "python",
   "pygments_lexer": "ipython3",
   "version": "3.10.10"
  },
  "orig_nbformat": 4,
  "vscode": {
   "interpreter": {
    "hash": "f9efe8616df34b93a5b20e3cc165fe4f9bfdf6f621702230f6a4e020f92c6ee2"
   }
  }
 },
 "nbformat": 4,
 "nbformat_minor": 2
}
