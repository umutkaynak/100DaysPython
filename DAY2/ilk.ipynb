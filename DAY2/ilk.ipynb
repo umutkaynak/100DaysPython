{
 "cells": [
  {
   "cell_type": "markdown",
   "metadata": {},
   "source": [
    "                                        *BAHŞİŞ HESAPLAYICI(final project) *\n"
   ]
  },
  {
   "cell_type": "code",
   "execution_count": 2,
   "metadata": {},
   "outputs": [
    {
     "name": "stdout",
     "output_type": "stream",
     "text": [
      "kişi başı hesabınız :63.945\n"
     ]
    }
   ],
   "source": [
    "hesap=float(input(\"hesabınız kaç tl : \"))\n",
    "kisi=int(input(\" kaç kişi yemek yediniz : \"))\n",
    "bahsis=float(input(\"yüzde kaç bahşiş vereceksiniz : \"))\n",
    "tips=float(bahsis/100)\n",
    "tek_hesap=(hesap/kisi)+tips\n",
    "\n",
    "print(\"kişi başı hesabınız :\" + str(tek_hesap))\n"
   ]
  },
  {
   "cell_type": "markdown",
   "metadata": {},
   "source": [
    "    *string olarak girilen iki değişkenin toplamak örneğin \"35\" 3+5=8 olsun*"
   ]
  },
  {
   "cell_type": "code",
   "execution_count": null,
   "metadata": {},
   "outputs": [
    {
     "name": "stdout",
     "output_type": "stream",
     "text": [
      "5\n"
     ]
    }
   ],
   "source": [
    "say=input(\"iki değeri girin : \")\n",
    "say1= int(say[0])\n",
    "say2=int(say[1])\n",
    "top= say1+ say2\n",
    "print(top)\n"
   ]
  },
  {
   "cell_type": "code",
   "execution_count": null,
   "metadata": {},
   "outputs": [
    {
     "name": "stdout",
     "output_type": "stream",
     "text": [
      "3.0\n"
     ]
    }
   ],
   "source": [
    "print(3*(3+3)/3-3)"
   ]
  },
  {
   "cell_type": "markdown",
   "metadata": {},
   "source": [
    "        *BMI(VÜCUT KİTLE ENDEKSİ) HESAPLAMA*\n",
    "Formül : (kilo kg)/(boy m)**2"
   ]
  },
  {
   "cell_type": "code",
   "execution_count": null,
   "metadata": {},
   "outputs": [
    {
     "name": "stdout",
     "output_type": "stream",
     "text": [
      "bmi değerlerini girin\n",
      "kilonuz :  54.0 boyunuz:  1.75\n",
      "bmi değeriniz :  17.632653061224488\n"
     ]
    }
   ],
   "source": [
    "print(\"bmi değerlerini girin\")\n",
    "boy=float(input(\"boyunu girin\"))\n",
    "kilo=float(input(\"kilonuzu girin\"))\n",
    "bmi=float(kilo/(boy*boy)) \n",
    "print(\"kilonuz : \",kilo, \"boyunuz: \",boy)\n",
    "print(\"bmi değeriniz : \" ,bmi)"
   ]
  },
  {
   "cell_type": "markdown",
   "metadata": {},
   "source": [
    "    *90 yaşına kadar yaşaydık kaç gün ,hafta ve ayımız olacaktı (şimdiki yaşından çıkar) onları göster ama f-string yardımı ile*"
   ]
  },
  {
   "cell_type": "code",
   "execution_count": 39,
   "metadata": {},
   "outputs": [
    {
     "name": "stdout",
     "output_type": "stream",
     "text": [
      "kalan gün : 24820, kalan hafta : 3536 , kalan ay : 420 , kalan yas : 68\n"
     ]
    }
   ],
   "source": [
    "gun=int(90*365)\n",
    "ay=int(90*12)\n",
    "hafta=int(90*52)\n",
    "simdi_yas=int(input(\"yasınız kaç : \"))\n",
    "kalan_gun=(gun-(simdi_yas*365))\n",
    "kalan_ay=(ay-(simdi_yas*30))\n",
    "kalan_hafta=(hafta-(simdi_yas*52))\n",
    "kalan_yıl= int(90 - simdi_yas)\n",
    "print(f\"kalan gün : {kalan_gun}, kalan hafta : {kalan_hafta} , kalan ay : {kalan_ay} , kalan yas : {kalan_yıl}\")"
   ]
  }
 ],
 "metadata": {
  "kernelspec": {
   "display_name": "Python 3.10.8 64-bit (microsoft store)",
   "language": "python",
   "name": "python3"
  },
  "language_info": {
   "codemirror_mode": {
    "name": "ipython",
    "version": 3
   },
   "file_extension": ".py",
   "mimetype": "text/x-python",
   "name": "python",
   "nbconvert_exporter": "python",
   "pygments_lexer": "ipython3",
   "version": "3.10.8"
  },
  "orig_nbformat": 4,
  "vscode": {
   "interpreter": {
    "hash": "f9efe8616df34b93a5b20e3cc165fe4f9bfdf6f621702230f6a4e020f92c6ee2"
   }
  }
 },
 "nbformat": 4,
 "nbformat_minor": 2
}
