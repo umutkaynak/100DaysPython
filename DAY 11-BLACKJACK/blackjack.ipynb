{
 "cells": [
  {
   "cell_type": "code",
   "execution_count": 1,
   "metadata": {},
   "outputs": [
    {
     "ename": "ImportError",
     "evalue": "cannot import name 'logo' from 'art' (c:\\Users\\umutk\\OneDrive\\Masaüstü\\100DaysPython\\DAY11 -BLACKJACK\\art.py)",
     "output_type": "error",
     "traceback": [
      "\u001b[1;31m---------------------------------------------------------------------------\u001b[0m",
      "\u001b[1;31mImportError\u001b[0m                               Traceback (most recent call last)",
      "Cell \u001b[1;32mIn [1], line 37\u001b[0m\n\u001b[0;32m     35\u001b[0m \u001b[39mimport\u001b[39;00m \u001b[39mrandom\u001b[39;00m\n\u001b[0;32m     36\u001b[0m \u001b[39m# from replit import clear\u001b[39;00m\n\u001b[1;32m---> 37\u001b[0m \u001b[39mfrom\u001b[39;00m \u001b[39mart\u001b[39;00m \u001b[39mimport\u001b[39;00m logo\n\u001b[0;32m     39\u001b[0m \u001b[39mdef\u001b[39;00m \u001b[39mdeal_card\u001b[39m():\n\u001b[0;32m     40\u001b[0m   \u001b[39m\"\"\"Returns a random card from the deck.\"\"\"\u001b[39;00m\n",
      "\u001b[1;31mImportError\u001b[0m: cannot import name 'logo' from 'art' (c:\\Users\\umutk\\OneDrive\\Masaüstü\\100DaysPython\\DAY11 -BLACKJACK\\art.py)"
     ]
    }
   ],
   "source": [
    "############### Blackjack Project #####################\n",
    "\n",
    "#Difficulty Normal 😎: Use all Hints below to complete the project.\n",
    "#Difficulty Hard 🤔: Use only Hints 1, 2, 3 to complete the project.\n",
    "#Difficulty Extra Hard 😭: Only use Hints 1 & 2 to complete the project.\n",
    "#Difficulty Expert 🤯: Only use Hint 1 to complete the project.\n",
    "\n",
    "############### Our Blackjack House Rules #####################\n",
    "\n",
    "## The deck is unlimited in size. \n",
    "## There are no jokers. \n",
    "## The Jack/Queen/King all count as 10.\n",
    "## The the Ace can count as 11 or 1.\n",
    "## Use the following list as the deck of cards:\n",
    "## cards = [11, 2, 3, 4, 5, 6, 7, 8, 9, 10, 10, 10, 10]\n",
    "## The cards in the list have equal probability of being drawn.\n",
    "## Cards are not removed from the deck as they are drawn.\n",
    "\n",
    "##################### Hints #####################\n",
    "\n",
    "#Hint 1: Go to this website and try out the Blackjack game: \n",
    "#   https://games.washingtonpost.com/games/blackjack/\n",
    "#Then try out the completed Blackjack project here: \n",
    "#   http://blackjack-final.appbrewery.repl.run\n",
    "\n",
    "#Hint 2: Read this breakdown of program requirements: \n",
    "#   http://listmoz.com/view/6h34DJpvJBFVRlZfJvxF\n",
    "#Then try to create your own flowchart for the program.\n",
    "\n",
    "#Hint 3: Download and read this flow chart I've created: \n",
    "#   https://drive.google.com/uc?export=download&id=1rDkiHCrhaf9eX7u7yjM1qwSuyEk-rPnt\n",
    "\n",
    "#Hint 4: Create a deal_card() function that uses the List below to *return* a random card.\n",
    "#11 is the Ace.\n",
    "import random\n",
    "# from replit import clear\n",
    "from art import logo\n",
    "\n",
    "def deal_card():\n",
    "  \"\"\"Returns a random card from the deck.\"\"\"\n",
    "  cards = [11, 2, 3, 4, 5, 6, 7, 8, 9, 10, 10, 10, 10]\n",
    "  card = random.choice(cards)\n",
    "  return card\n",
    "\n",
    "#Hint 6: Create a function called calculate_score() that takes a List of cards as input \n",
    "#and returns the score. \n",
    "#Look up the sum() function to help you do this.\n",
    "def calculate_score(cards):\n",
    "  \"\"\"Take a list of cards and return the score calculated from the cards\"\"\"\n",
    "\n",
    "  #Hint 7: Inside calculate_score() check for a blackjack (a hand with only 2 cards: ace + 10) and return 0 instead of the actual score. 0 will represent a blackjack in our game.\n",
    "  if sum(cards) == 21 and len(cards) == 2:\n",
    "    return 0\n",
    "  #Hint 8: Inside calculate_score() check for an 11 (ace). If the score is already over 21, remove the 11 and replace it with a 1. You might need to look up append() and remove().\n",
    "  if 11 in cards and sum(cards) > 21:\n",
    "    cards.remove(11)\n",
    "    cards.append(1)\n",
    "  return sum(cards)\n",
    "\n",
    "#Hint 13: Create a function called compare() and pass in the user_score and computer_score. If the computer and user both have the same score, then it's a draw. If the computer has a blackjack (0), then the user loses. If the user has a blackjack (0), then the user wins. If the user_score is over 21, then the user loses. If the computer_score is over 21, then the computer loses. If none of the above, then the player with the highest score wins.\n",
    "def compare(user_score, computer_score):\n",
    "  #Bug fix. If you and the computer are both over, you lose.\n",
    "  if user_score > 21 and computer_score > 21:\n",
    "    return \"You went over. You lose 😤\"\n",
    "\n",
    "\n",
    "  if user_score == computer_score:\n",
    "    return \"Draw 🙃\"\n",
    "  elif computer_score == 0:\n",
    "    return \"Lose, opponent has Blackjack 😱\"\n",
    "  elif user_score == 0:\n",
    "    return \"Win with a Blackjack 😎\"\n",
    "  elif user_score > 21:\n",
    "    return \"You went over. You lose 😭\"\n",
    "  elif computer_score > 21:\n",
    "    return \"Opponent went over. You win 😁\"\n",
    "  elif user_score > computer_score:\n",
    "    return \"You win 😃\"\n",
    "  else:\n",
    "    return \"You lose 😤\"\n",
    "\n",
    "def play_game():\n",
    "\n",
    "  print(logo)\n",
    "\n",
    "  #Hint 5: Deal the user and computer 2 cards each using deal_card()\n",
    "  user_cards = []\n",
    "  computer_cards = []\n",
    "  is_game_over = False\n",
    "\n",
    "  for _ in range(2):\n",
    "    user_cards.append(deal_card())\n",
    "    computer_cards.append(deal_card())\n",
    "\n",
    "  #Hint 11: The score will need to be rechecked with every new card drawn and the checks in Hint 9 need to be repeated until the game ends.\n",
    "\n",
    "  while not is_game_over:\n",
    "    #Hint 9: Call calculate_score(). If the computer or the user has a blackjack (0) or if the user's score is over 21, then the game ends.\n",
    "    user_score = calculate_score(user_cards)\n",
    "    computer_score = calculate_score(computer_cards)\n",
    "    print(f\"   Your cards: {user_cards}, current score: {user_score}\")\n",
    "    print(f\"   Computer's first card: {computer_cards[0]}\")\n",
    "\n",
    "    if user_score == 0 or computer_score == 0 or user_score > 21:\n",
    "      is_game_over = True\n",
    "    else:\n",
    "      #Hint 10: If the game has not ended, ask the user if they want to draw another card. If yes, then use the deal_card() function to add another card to the user_cards List. If no, then the game has ended.\n",
    "      user_should_deal = input(\"Type 'y' to get another card, type 'n' to pass: \")\n",
    "      if user_should_deal == \"y\":\n",
    "        user_cards.append(deal_card())\n",
    "      else:\n",
    "        is_game_over = True\n",
    "\n",
    "  #Hint 12: Once the user is done, it's time to let the computer play. The computer should keep drawing cards as long as it has a score less than 17.\n",
    "  while computer_score != 0 and computer_score < 17:\n",
    "    computer_cards.append(deal_card())\n",
    "    computer_score = calculate_score(computer_cards)\n",
    "\n",
    "  print(f\"   Your final hand: {user_cards}, final score: {user_score}\")\n",
    "  print(f\"   Computer's final hand: {computer_cards}, final score: {computer_score}\")\n",
    "  print(compare(user_score, computer_score))\n",
    "\n",
    "#Hint 14: Ask the user if they want to restart the game. If they answer yes, clear the console and start a new game of blackjack and show the logo from art.py.\n",
    "while input(\"Do you want to play a game of Blackjack? Type 'y' or 'n': \") == \"y\":\n",
    "  clear()\n",
    "  play_game()\n",
    "print(cards)\n"
   ]
  },
  {
   "cell_type": "code",
   "execution_count": 37,
   "metadata": {},
   "outputs": [
    {
     "ename": "ValueError",
     "evalue": "list.remove(x): x not in list",
     "output_type": "error",
     "traceback": [
      "\u001b[1;31m---------------------------------------------------------------------------\u001b[0m",
      "\u001b[1;31mValueError\u001b[0m                                Traceback (most recent call last)",
      "Cell \u001b[1;32mIn [37], line 4\u001b[0m\n\u001b[0;32m      2\u001b[0m cards \u001b[39m=\u001b[39m [\u001b[39m11\u001b[39m, \u001b[39m2\u001b[39m, \u001b[39m3\u001b[39m, \u001b[39m4\u001b[39m, \u001b[39m5\u001b[39m, \u001b[39m6\u001b[39m, \u001b[39m7\u001b[39m, \u001b[39m8\u001b[39m, \u001b[39m9\u001b[39m, \u001b[39m10\u001b[39m, \u001b[39m10\u001b[39m, \u001b[39m10\u001b[39m, \u001b[39m10\u001b[39m]\n\u001b[0;32m      3\u001b[0m robot\u001b[39m=\u001b[39m[]\n\u001b[1;32m----> 4\u001b[0m cards\u001b[39m.\u001b[39mremove(robot\u001b[39m.\u001b[39mappend(rnd\u001b[39m.\u001b[39mchoice(cards)))\n\u001b[0;32m      5\u001b[0m \u001b[39m#a=robot.append(rnd.choice(cards)) \u001b[39;00m\n\u001b[0;32m      6\u001b[0m \u001b[39m#cards=cards.pop(a)\u001b[39;00m\n\u001b[0;32m      7\u001b[0m \u001b[39mprint\u001b[39m(robot)\n",
      "\u001b[1;31mValueError\u001b[0m: list.remove(x): x not in list"
     ]
    }
   ],
   "source": [
    "import random as rnd\n",
    "cards = [11, 2, 3, 4, 5, 6, 7, 8, 9, 10, 10, 10, 10]\n",
    "robot=[]\n",
    "cards.remove(robot.append(rnd.choice(cards)))\n",
    "#a=robot.append(rnd.choice(cards)) \n",
    "#cards=cards.pop(a)\n",
    "print(robot)\n",
    "print(cards)"
   ]
  },
  {
   "cell_type": "code",
   "execution_count": 9,
   "metadata": {},
   "outputs": [
    {
     "name": "stdout",
     "output_type": "stream",
     "text": [
      "barcelona\n"
     ]
    }
   ],
   "source": [
    "import random\n",
    "\n",
    "secenekler = ['real madrid', 'barcelona', 'lazio', 'manchester united', 'porto']\n",
    "print(random.choice(secenekler))"
   ]
  },
  {
   "cell_type": "code",
   "execution_count": 39,
   "metadata": {},
   "outputs": [
    {
     "data": {
      "text/plain": [
       "[11, 3, 4, 5, 6, 7, 8, 9, 10, 10, 10, 10]"
      ]
     },
     "execution_count": 39,
     "metadata": {},
     "output_type": "execute_result"
    }
   ],
   "source": [
    "cards = [11, 2, 3, 4, 5, 6, 7, 8, 9, 10, 10, 10, 10]\n",
    "cards.remove(2)\n",
    "cards"
   ]
  },
  {
   "cell_type": "code",
   "execution_count": 48,
   "metadata": {},
   "outputs": [
    {
     "name": "stdout",
     "output_type": "stream",
     "text": [
      "8\n",
      "[]\n",
      "[11, 2, 3, 4, 5, 6, 7, 8, 9, 10, 10, 10]\n"
     ]
    }
   ],
   "source": [
    "import random as rnd\n",
    "cards = [11, 2, 3, 4, 5, 6, 7, 8, 9, 10, 10, 10, 10]\n",
    "robot=[]\n",
    "oyuncu=[]\n",
    "silinen=rnd.choice(cards)\n",
    "cards.remove(silinen)\n",
    "#a=robot.append(rnd.choice(cards)) \n",
    "#cards=cards.pop(a)\n",
    "print(a)\n",
    "print(robot)\n",
    "print(cards)"
   ]
  },
  {
   "cell_type": "code",
   "execution_count": 55,
   "metadata": {},
   "outputs": [
    {
     "name": "stdout",
     "output_type": "stream",
     "text": [
      "[6, 10]\n",
      "10\n"
     ]
    }
   ],
   "source": [
    "import random as rnd\n",
    "cards = [11, 2, 3, 4, 5, 6, 7, 8, 9, 10, 10, 10, 10]\n",
    "robot=[]\n",
    "oyuncu=[]\n",
    "oyuncu.append(rnd.choice(cards))\n",
    "robot.append(rnd.choice(cards))\n",
    "oyuncu.append(rnd.choice(cards))\n",
    "robot.append(rnd.choice(cards))\n",
    "print(oyuncu)\n",
    "print(robot[0])"
   ]
  },
  {
   "cell_type": "code",
   "execution_count": null,
   "metadata": {},
   "outputs": [],
   "source": []
  }
 ],
 "metadata": {
  "kernelspec": {
   "display_name": "Python 3",
   "language": "python",
   "name": "python3"
  },
  "language_info": {
   "codemirror_mode": {
    "name": "ipython",
    "version": 3
   },
   "file_extension": ".py",
   "mimetype": "text/x-python",
   "name": "python",
   "nbconvert_exporter": "python",
   "pygments_lexer": "ipython3",
   "version": "3.10.9"
  },
  "orig_nbformat": 4,
  "vscode": {
   "interpreter": {
    "hash": "f9efe8616df34b93a5b20e3cc165fe4f9bfdf6f621702230f6a4e020f92c6ee2"
   }
  }
 },
 "nbformat": 4,
 "nbformat_minor": 2
}
