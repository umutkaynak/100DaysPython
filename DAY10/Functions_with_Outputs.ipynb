{
 "cells": [
  {
   "cell_type": "code",
   "execution_count": 5,
   "metadata": {},
   "outputs": [
    {
     "data": {
      "text/plain": [
       "'Umut Kaynak'"
      ]
     },
     "execution_count": 5,
     "metadata": {},
     "output_type": "execute_result"
    }
   ],
   "source": [
    "def formatname():\n",
    "  fName=input(\"isim: \")\n",
    "  lName=input(\"soyisim: \")\n",
    "  result =fName +\" \"+ lName\n",
    "  return result.title()\n",
    "\n",
    "formatname()"
   ]
  },
  {
   "cell_type": "code",
   "execution_count": 8,
   "metadata": {},
   "outputs": [
    {
     "name": "stdout",
     "output_type": "stream",
     "text": [
      "Umut Kaynak\n"
     ]
    }
   ],
   "source": [
    "def formatname(fname,lname):\n",
    "    ad=fname\n",
    "    soyad=lname\n",
    "    result=(ad+\" \"+ soyad).title()\n",
    "    print(result)\n",
    "\n",
    "formatname(\"umut\",\"kaynak\")\n",
    "    \n",
    "\n",
    "    "
   ]
  },
  {
   "attachments": {},
   "cell_type": "markdown",
   "metadata": {},
   "source": [
    "Talimatlar\n",
    "\n",
    "Başlangıç ​​kodunda, Artık Yıl yarışmasının çözümünü bulacaksınız. İlk olarak, bu işlevi is_leap()\"Artık yıl\" yazdırmak yerine dönüştürün. veya \"Artık yıl değil.\" artık yıl ise geri dönmelidir ve artık yıl değilse geri dönmelidir .True False\n",
    "\n",
    "Daha sonra girdi olarak bir yıl ve bir aydays_in_month() sürecek olan adında bir işlev yaratacaksınız , örn.\n",
    "\n",
    "days_in_month(year=2022, month=2)\n",
    "Ve bu bilgiyi , aydaki gün sayısını hesaplamak için kullanacak ve ardından bunu çıktı olarak döndürecektir , örneğin:\n",
    "\n",
    "28\n",
    "Liste month_days, artık olmayan bir yıl için Ocak'tan Aralık'a kadar bir aydaki gün sayısını içerir. Artık yıl, Şubat ayında 29 gündür.\n",
    "\n",
    "İpucu\n",
    "Konum bağımsız değişkenlerini görmek için kodun altındaki fonksiyon çağrısına bakın. düzen çok önemlidir.\n",
    "\n",
    "Kendi parametre adlarınızı seçmekten çekinmeyin.\n",
    "\n",
    "Bunun bir Liste olduğunu ve Python'daki Listelerin 0 konumundan başladığını unutmayın month_days. Yani Ocak ayındaki gün sayısı month_days[0]\n",
    "\n",
    "Girintiye dikkat edin."
   ]
  },
  {
   "cell_type": "code",
   "execution_count": null,
   "metadata": {},
   "outputs": [],
   "source": [
    "def is_leap(year):\n",
    "  if year % 4 == 0:\n",
    "    if year % 100 == 0:\n",
    "      if year % 400 == 0:\n",
    "        return True\n",
    "      else:\n",
    "        return False\n",
    "    else:\n",
    "        return True\n",
    "  else:\n",
    "    return False\n",
    "\n",
    "def days_in_month(year, month):\n",
    "    month_days = [31, 28, 31, 30, 31, 30, 31, 31, 30, 31, 30, 31] \n",
    "    if is_leap(year) and month==2:\n",
    "      return 29\n",
    "    \n",
    "     \n",
    "    day=month-1\n",
    "    \n",
    "    a=month_days[day]\n",
    "    return a\n",
    "\n",
    "    \n",
    "  \n",
    "  \n",
    "#🚨 Aşağıdaki kodlardan hiçbirini DEĞİŞTİRMEYİN\n",
    "year = int(input(\"Enter a year: \"))\n",
    "month = int(input(\"Enter a month: \"))\n",
    "days = days_in_month(year, month)\n",
    "print(days)\n",
    "\n",
    "\n",
    "\n",
    "\n",
    "\n",
    "\n",
    "\n"
   ]
  },
  {
   "cell_type": "code",
   "execution_count": 39,
   "metadata": {},
   "outputs": [
    {
     "name": "stdout",
     "output_type": "stream",
     "text": [
      "2\n",
      "28\n"
     ]
    }
   ],
   "source": [
    "def is_leap(year):\n",
    "  if year % 4 == 0:\n",
    "    if year % 100 == 0:\n",
    "      if year % 400 == 0:\n",
    "        return True\n",
    "      else:\n",
    "        return False\n",
    "    else:\n",
    "        return True\n",
    "  else:\n",
    "    return False\n",
    "\n",
    "#def days_in_month():\n",
    "month_days = [31, 28, 31, 30, 31, 30, 31, 31, 30, 31, 30, 31]  \n",
    "  \n",
    "  \n",
    "#🚨 Aşağıdaki kodlardan hiçbirini DEĞİŞTİRMEYİN\n",
    "year = int(input(\"Enter a year: \"))\n",
    "month = int(input(\"Enter a month: \"))\n",
    "#days = days_in_month(year, month)\n",
    "#print(days)\n",
    "\n",
    "\n",
    "def ay():\n",
    "    if is_leap(year) and month==2:\n",
    "      return 29\n",
    "    day=month-1\n",
    "    print(month)\n",
    "    a=month_days[day]\n",
    "    print(a)\n",
    "ay()\n",
    "\n",
    "\n",
    "\n",
    "\n"
   ]
  },
  {
   "cell_type": "code",
   "execution_count": null,
   "metadata": {},
   "outputs": [],
   "source": []
  }
 ],
 "metadata": {
  "kernelspec": {
   "display_name": "Python 3",
   "language": "python",
   "name": "python3"
  },
  "language_info": {
   "codemirror_mode": {
    "name": "ipython",
    "version": 3
   },
   "file_extension": ".py",
   "mimetype": "text/x-python",
   "name": "python",
   "nbconvert_exporter": "python",
   "pygments_lexer": "ipython3",
   "version": "3.10.9"
  },
  "orig_nbformat": 4,
  "vscode": {
   "interpreter": {
    "hash": "f9efe8616df34b93a5b20e3cc165fe4f9bfdf6f621702230f6a4e020f92c6ee2"
   }
  }
 },
 "nbformat": 4,
 "nbformat_minor": 2
}
