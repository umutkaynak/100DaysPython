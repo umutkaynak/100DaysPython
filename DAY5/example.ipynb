{
 "cells": [
  {
   "cell_type": "markdown",
   "metadata": {},
   "source": [
    "        Ortalama boy egzersizi örneği\n",
    " verilere göre boy listesinin ort. öğrenci boy unu hesaplaycak program yazacağız."
   ]
  },
  {
   "cell_type": "markdown",
   "metadata": {},
   "source": [
    "**Talimatlar**\n",
    "\n",
    "Bir Boy Listesinden ortalama öğrenci boyunu hesaplayan bir program yazacaksınız.\n",
    "\n",
    "Örneğin student_heights = [180, 124, 165, 173, 189, 169, 146]\n",
    "\n",
    "Ortalama yükseklik, tüm yüksekliklerin toplanması ve toplam yükseklik sayısına bölünmesiyle hesaplanabilir.\n",
    "\n",
    "Örneğin\n",
    "\n",
    "180 + 124 + 165 + 173 + 189 + 169 + 146 = 1146\n",
    "\n",
    "Toplamda 7 yükseklik vardır.student_heights\n",
    "\n",
    "1146 ÷ 7 = 163.71428571428572\n",
    "\n",
    "En yakın tam sayıya yuvarlanan ortalama yükseklik = 164\n",
    "\n",
    "Önemlisum() Yanıtınızda veya len()işlevlerini kullanmamalısınız . Döngüler hakkında öğrendiklerinizi kullanarak işlevlerini çoğaltmaya çalışmalısınız.**"
   ]
  },
  {
   "cell_type": "markdown",
   "metadata": {},
   "source": [
    "**Örnek Giriş: 156 178 165 171 187**\n",
    "\n",
    "**Bu durumda, student_heights şuna benzeyen bir liste olacaktır: [156, 178, 165, 171, 187]**\n",
    "\n",
    "**Örnek Çıktı**\n",
    "**171**"
   ]
  },
  {
   "cell_type": "code",
   "execution_count": 18,
   "metadata": {},
   "outputs": [
    {
     "name": "stdout",
     "output_type": "stream",
     "text": [
      "uzunluğu 8 ögeden oluşur\n",
      "boyları toplamı :  1302\n",
      " boy ortlaması :  162\n"
     ]
    }
   ],
   "source": [
    "student_heights = input(\"Input a list of student heights \").split()\n",
    "for n in range(0, len(student_heights)):\n",
    "  student_heights[n] = int(student_heights[n])\n",
    "\n",
    "print(\"uzunluğu\" , len(student_heights) ,\"ögeden oluşur\")\n",
    "print(\"boyları toplamı : \", sum(student_heights) )\n",
    "\n",
    "print(\" boy ortlaması : \", (int)(sum(student_heights)/len(student_heights)))"
   ]
  },
  {
   "cell_type": "markdown",
   "metadata": {},
   "source": [
    "\n",
    "**Yukarıdaki basit yöntemi biz biraz daha karmaşık yoldan gidleim ve for ile yazalım**\n"
   ]
  },
  {
   "cell_type": "code",
   "execution_count": 17,
   "metadata": {},
   "outputs": [
    {
     "name": "stdout",
     "output_type": "stream",
     "text": [
      "150\n",
      "142\n",
      "185\n",
      "120\n",
      "171\n",
      "184\n",
      "151\n",
      "199\n",
      "toplam boy uzunluğu 1302\n",
      "toplam kişi sayısı 8\n",
      "ortalama boy uzunluğu 162\n"
     ]
    }
   ],
   "source": [
    "student_heights = input(\"Input a list of student heights \").split()\n",
    "for n in range(0, len(student_heights)):\n",
    "  student_heights[n] = int(student_heights[n])\n",
    "top=0\n",
    "kisi=0\n",
    "for item in student_heights:\n",
    "  top=top+int(item)\n",
    "  kisi=kisi+1\n",
    "  print(item)\n",
    "print(\"toplam boy uzunluğu\", top)\n",
    "print(\"toplam kişi sayısı\",kisi)\n",
    "sonuc=int(top/kisi)\n",
    "print(\"ortalama boy uzunluğu\", sonuc)\n",
    "\n"
   ]
  },
  {
   "cell_type": "markdown",
   "metadata": {},
   "source": [
    "                                    örnek 2"
   ]
  },
  {
   "cell_type": "markdown",
   "metadata": {},
   "source": [
    "**Talimatlar**\n",
    "**Bir Puan Listesinden en yüksek puanı hesaplayan bir program yazacaksınız.**\n",
    "\n",
    "**Örneğin student_scores = [78, 65, 89, 86, 55, 91, 64, 89]**\n",
    "\n",
    "\n",
    "**Önemli max() veya min() işlevlerini kullanmanıza izin verilmez. Çıkış kelimeleri örnekle eşleşmelidir. yani**\n",
    "\n",
    "\n",
    "**The highest score in the class is: x**"
   ]
  },
  {
   "cell_type": "markdown",
   "metadata": {},
   "source": [
    "**Örnek Giriş**\n",
    "\n",
    "**78 65 89 86 55 91 64 89**\n",
    "\n",
    "**Bu durumda, student_scores şuna benzeyen bir liste olacaktır:[78, 65, 89, 86, 55, 91, 64, 89]**\n",
    "\n",
    "**Örnek Çıktı: **\n",
    "**The highest score in the class is: 91**"
   ]
  },
  {
   "cell_type": "markdown",
   "metadata": {},
   "source": []
  },
  {
   "cell_type": "code",
   "execution_count": 57,
   "metadata": {},
   "outputs": [
    {
     "name": "stdout",
     "output_type": "stream",
     "text": [
      "[78, 65, 89, 86, 102, 55, 91, 64, 89]\n",
      "en büyük değer: 102\n"
     ]
    }
   ],
   "source": [
    "student_scores = input(\"Input a list of student scores \").split()\n",
    "for n in range(0, len(student_scores)):\n",
    "  student_scores[n] = int(student_scores[n])\n",
    "print(student_scores)\n",
    "enb=0\n",
    "\n",
    "for x in student_scores:\n",
    "  #print(x)\n",
    "  if enb < x:\n",
    "    enb=x\n",
    "    #print(\"enb\", enb)\n",
    "\n",
    "print(\"en büyük değer:\",enb)\n",
    "\n",
    "\n",
    "\n",
    "  \n",
    "#print(\"enb:\",enb)\n",
    "#print(x)\n"
   ]
  },
  {
   "cell_type": "markdown",
   "metadata": {},
   "source": [
    "Talimatlar\n",
    "1'den 100'e kadar olan tüm çift sayıların toplamını bulan bir program yazacaksınız. Böylece ilk çift sayı 2, son çift sayı 100 olacaktır:\n",
    "\n",
    "yani 2 + 4 + 6 + 8 +10 ... + 98 + 100\n",
    "\n",
    "Önemli, konsol çıktınızda yalnızca 1 print ifadesi bulunmalıdır. Hesaplamanın her adımını değil, yalnızca nihai toplamı yazdırmalıdır.\n",
    "\n",
    "İpucu\n",
    "range()Bu sorunu çözmenin epeyce yolu var, ancak işlevi çözümlerin herhangi birinde kullanmanız gerekecek ."
   ]
  },
  {
   "cell_type": "code",
   "execution_count": 1,
   "metadata": {},
   "outputs": [
    {
     "name": "stdout",
     "output_type": "stream",
     "text": [
      "2550\n"
     ]
    }
   ],
   "source": [
    "total=0\n",
    "for i in range(0,101,2):\n",
    "    total+=i\n",
    "print(total)"
   ]
  },
  {
   "cell_type": "code",
   "execution_count": 2,
   "metadata": {},
   "outputs": [
    {
     "name": "stdout",
     "output_type": "stream",
     "text": [
      "2550\n"
     ]
    }
   ],
   "source": [
    "#başka bir uygulama şekli\n",
    "tot=0\n",
    "for i in range(1,101):\n",
    "    if(i%2==0):\n",
    "        tot+=i\n",
    "print(tot)"
   ]
  },
  {
   "cell_type": "markdown",
   "metadata": {},
   "source": [
    "Talimatlar\n",
    "FizzBuzz oyununa çözümü otomatik olarak yazdıran bir program yazacaksınız.\n",
    "\n",
    "Programınız 1'den 100'e kadar her sayıyı sırayla yazdırmalıdır.\n",
    "\n",
    "Sayı 3'e bölünebilir olduğunda, sayıyı yazdırmak yerine \"Fizz\" yazmalıdır.\n",
    "\n",
    "Sayı 5'e bölünebilir olduğunda, sayıyı yazdırmak yerine \"Buzz\" yazmalıdır.`\n",
    "\n",
    "  Ve eğer sayı hem 3'e hem de 5'e bölünebiliyorsa, örneğin 15 ise sayı yerine \"FizzBuzz\" yazmalıdır.\n",
    "\n"
   ]
  },
  {
   "cell_type": "code",
   "execution_count": 4,
   "metadata": {},
   "outputs": [
    {
     "name": "stdout",
     "output_type": "stream",
     "text": [
      "1\n",
      "2\n",
      "Fizz\n",
      "3\n",
      "4\n",
      "Buzz\n",
      "Fizz\n",
      "6\n",
      "7\n",
      "8\n",
      "Fizz\n",
      "9\n",
      "Buzz\n",
      "11\n",
      "Fizz\n",
      "12\n",
      "13\n",
      "14\n",
      "FizzBuzz\n",
      "Fizz\n",
      "Buzz\n",
      "16\n",
      "17\n",
      "Fizz\n",
      "18\n",
      "19\n",
      "Buzz\n",
      "Fizz\n",
      "21\n",
      "22\n",
      "23\n",
      "Fizz\n",
      "24\n",
      "Buzz\n",
      "26\n",
      "Fizz\n",
      "27\n",
      "28\n",
      "29\n",
      "FizzBuzz\n",
      "Fizz\n",
      "Buzz\n",
      "31\n",
      "32\n",
      "Fizz\n",
      "33\n",
      "34\n",
      "Buzz\n",
      "Fizz\n",
      "36\n",
      "37\n",
      "38\n",
      "Fizz\n",
      "39\n",
      "Buzz\n",
      "41\n",
      "Fizz\n",
      "42\n",
      "43\n",
      "44\n",
      "FizzBuzz\n",
      "Fizz\n",
      "Buzz\n",
      "46\n",
      "47\n",
      "Fizz\n",
      "48\n",
      "49\n",
      "Buzz\n",
      "Fizz\n",
      "51\n",
      "52\n",
      "53\n",
      "Fizz\n",
      "54\n",
      "Buzz\n",
      "56\n",
      "Fizz\n",
      "57\n",
      "58\n",
      "59\n",
      "FizzBuzz\n",
      "Fizz\n",
      "Buzz\n",
      "61\n",
      "62\n",
      "Fizz\n",
      "63\n",
      "64\n",
      "Buzz\n",
      "Fizz\n",
      "66\n",
      "67\n",
      "68\n",
      "Fizz\n",
      "69\n",
      "Buzz\n",
      "71\n",
      "Fizz\n",
      "72\n",
      "73\n",
      "74\n",
      "FizzBuzz\n",
      "Fizz\n",
      "Buzz\n",
      "76\n",
      "77\n",
      "Fizz\n",
      "78\n",
      "79\n",
      "Buzz\n",
      "Fizz\n",
      "81\n",
      "82\n",
      "83\n",
      "Fizz\n",
      "84\n",
      "Buzz\n",
      "86\n",
      "Fizz\n",
      "87\n",
      "88\n",
      "89\n",
      "FizzBuzz\n",
      "Fizz\n",
      "Buzz\n",
      "91\n",
      "92\n",
      "Fizz\n",
      "93\n",
      "94\n",
      "Buzz\n",
      "Fizz\n",
      "96\n",
      "97\n",
      "98\n",
      "Fizz\n",
      "99\n",
      "Buzz\n"
     ]
    }
   ],
   "source": [
    "for i in range(1,101):\n",
    "    if i%3==0 and i%5==0:\n",
    "        print(\"FizzBuzz\")\n",
    "    if i%3==0:\n",
    "        print(\"Fizz\")\n",
    "    if i%5==0:\n",
    "        print(\"Buzz\")\n",
    "    else:\n",
    "        print(i)\n",
    "    "
   ]
  }
 ],
 "metadata": {
  "kernelspec": {
   "display_name": "Python 3.10.8 64-bit (microsoft store)",
   "language": "python",
   "name": "python3"
  },
  "language_info": {
   "codemirror_mode": {
    "name": "ipython",
    "version": 3
   },
   "file_extension": ".py",
   "mimetype": "text/x-python",
   "name": "python",
   "nbconvert_exporter": "python",
   "pygments_lexer": "ipython3",
   "version": "3.10.8"
  },
  "orig_nbformat": 4,
  "vscode": {
   "interpreter": {
    "hash": "f9efe8616df34b93a5b20e3cc165fe4f9bfdf6f621702230f6a4e020f92c6ee2"
   }
  }
 },
 "nbformat": 4,
 "nbformat_minor": 2
}
