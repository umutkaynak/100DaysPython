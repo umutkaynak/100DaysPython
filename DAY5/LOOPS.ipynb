{
 "cells": [
  {
   "cell_type": "markdown",
   "metadata": {},
   "source": [
    "BUGÜNKÜ ALIŞTIRMALARIMIZDA GİRMEK İSTEDĞİMİZ UZUNLUKTA RASTGELE PAROLA ALIŞTIRMAYI GÖRECEĞİZ"
   ]
  },
  {
   "cell_type": "markdown",
   "metadata": {},
   "source": [
    "    PYTHON LİSTELERİ İLE FOR DÖNGÜSÜ KULLANMA "
   ]
  },
  {
   "cell_type": "code",
   "execution_count": 5,
   "metadata": {},
   "outputs": [
    {
     "name": "stdout",
     "output_type": "stream",
     "text": [
      "apple\n",
      "apple pie\n",
      "peach\n",
      "peach pie\n",
      "pear\n",
      "pear pie\n"
     ]
    }
   ],
   "source": [
    "fruits=[\"apple\",\"peach\",\"pear\"]\n",
    "\n",
    "for x in  fruits:\n",
    "    print(x)\n",
    "    print(x + \" pie\")\n"
   ]
  },
  {
   "cell_type": "markdown",
   "metadata": {},
   "source": [
    "FOR DÖNGÜSÜ VE range() FONKSİYONU"
   ]
  },
  {
   "cell_type": "code",
   "execution_count": 1,
   "metadata": {},
   "outputs": [
    {
     "name": "stdout",
     "output_type": "stream",
     "text": [
      "1\n",
      "2\n",
      "3\n",
      "4\n",
      "5\n",
      "6\n",
      "7\n",
      "8\n",
      "9\n"
     ]
    }
   ],
   "source": [
    "for item in range(1,10):\n",
    "    print(item)"
   ]
  },
  {
   "cell_type": "code",
   "execution_count": 2,
   "metadata": {},
   "outputs": [
    {
     "name": "stdout",
     "output_type": "stream",
     "text": [
      "1\n",
      "4\n",
      "7\n"
     ]
    }
   ],
   "source": [
    "for i in range(1,10,3):\n",
    "    print(i)"
   ]
  },
  {
   "cell_type": "markdown",
   "metadata": {},
   "source": [
    "şimdi çok az zorlayarak 1 den 100'e kadar olan sayıları toplayalım"
   ]
  },
  {
   "cell_type": "code",
   "execution_count": 8,
   "metadata": {},
   "outputs": [
    {
     "name": "stdout",
     "output_type": "stream",
     "text": [
      "1 den 100'e kadar olan sayıların toplamı:  5050\n"
     ]
    }
   ],
   "source": [
    "top=0\n",
    "for i in range(1,101): \n",
    "    top+=i\n",
    "print(\"1 den 100'e kadar olan sayıların toplamı: \",top)"
   ]
  },
  {
   "cell_type": "code",
   "execution_count": null,
   "metadata": {},
   "outputs": [],
   "source": []
  }
 ],
 "metadata": {
  "kernelspec": {
   "display_name": "Python 3.10.8 64-bit (microsoft store)",
   "language": "python",
   "name": "python3"
  },
  "language_info": {
   "codemirror_mode": {
    "name": "ipython",
    "version": 3
   },
   "file_extension": ".py",
   "mimetype": "text/x-python",
   "name": "python",
   "nbconvert_exporter": "python",
   "pygments_lexer": "ipython3",
   "version": "3.10.8"
  },
  "orig_nbformat": 4,
  "vscode": {
   "interpreter": {
    "hash": "f9efe8616df34b93a5b20e3cc165fe4f9bfdf6f621702230f6a4e020f92c6ee2"
   }
  }
 },
 "nbformat": 4,
 "nbformat_minor": 2
}
