{
 "cells": [
  {
   "cell_type": "markdown",
   "metadata": {},
   "source": [
    "* KULLANICIDAN  GRUP OLUŞTURMASI İÇİN ALINAN BİLGİLER İLE GRUP İSMİ OPLUŞTURMA \n"
   ]
  },
  {
   "cell_type": "code",
   "execution_count": 3,
   "metadata": {},
   "outputs": [
    {
     "name": "stdout",
     "output_type": "stream",
     "text": [
      "grup için senden iki adım isteyeceğim\n",
      "aradığını isim bu olabilir mi : amasra yokki\n"
     ]
    }
   ],
   "source": [
    "print(\"grup için senden iki adım isteyeceğim\")\n",
    "x=input(\"hangi şehirde yaşıyorusun\")\n",
    "y=input(\"evcil hayvanın adı nedir\")\n",
    "c= x+\" \"+ y\n",
    "print(\"aradığını isim bu olabilir mi : \" + c)\n",
    " "
   ]
  },
  {
   "cell_type": "code",
   "execution_count": 4,
   "metadata": {},
   "outputs": [
    {
     "name": "stdout",
     "output_type": "stream",
     "text": [
      "print(\"sea\")\n"
     ]
    }
   ],
   "source": [
    "print('print(\"sea\")')\n"
   ]
  },
  {
   "cell_type": "markdown",
   "metadata": {},
   "source": [
    "DAY1 son proje"
   ]
  },
  {
   "cell_type": "code",
   "execution_count": 8,
   "metadata": {},
   "outputs": [
    {
     "name": "stdout",
     "output_type": "stream",
     "text": [
      "merhaba sorduğumuz soruları cevaplayınız\n",
      "örnek grup adınız : asda asd\n"
     ]
    }
   ],
   "source": [
    "#1. Create a greeting for your program.\n",
    "print(\"merhaba sorduğumuz soruları cevaplayınız\")\n",
    "#2. Ask the user for the city that they grew up in.\n",
    "x=input(\"hangi şehirde büyüdünüz\")\n",
    "\n",
    "#3. Ask the user for the name of a pet.\n",
    "y=input(\"evcil hayvanınızın adı nedir \\n\")\n",
    "#4. Combine the name of their city and pet and show them their band name.\n",
    "print(\"örnek grup adınız : \"+ x+\" \"+y)\n",
    "#5. Make sure the input cursor shows on a new line."
   ]
  }
 ],
 "metadata": {
  "kernelspec": {
   "display_name": "Python 3.10.8 64-bit (microsoft store)",
   "language": "python",
   "name": "python3"
  },
  "language_info": {
   "codemirror_mode": {
    "name": "ipython",
    "version": 3
   },
   "file_extension": ".py",
   "mimetype": "text/x-python",
   "name": "python",
   "nbconvert_exporter": "python",
   "pygments_lexer": "ipython3",
   "version": "3.10.8"
  },
  "orig_nbformat": 4,
  "vscode": {
   "interpreter": {
    "hash": "f9efe8616df34b93a5b20e3cc165fe4f9bfdf6f621702230f6a4e020f92c6ee2"
   }
  }
 },
 "nbformat": 4,
 "nbformat_minor": 2
}
