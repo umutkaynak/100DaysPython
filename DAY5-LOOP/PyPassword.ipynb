{
 "cells": [
  {
   "cell_type": "markdown",
   "metadata": {},
   "source": [
    "**Program bize şifrenin kaç haneli olduğunu soracak,**\n",
    "\n",
    "**sonrasında kaç sembol ve kaç sayı içermesini istediğini soracak geri kalan harfleri random atayacak,**\n",
    "\n",
    "**ve random oluşan şifreyi bize gösterecek.**\n",
    "\n"
   ]
  },
  {
   "cell_type": "code",
   "execution_count": 22,
   "metadata": {},
   "outputs": [
    {
     "name": "stdout",
     "output_type": "stream",
     "text": [
      "Random şifre oluşturucuya hoşgeldiniz \n",
      "['a', 'k', ')', '$', '*', '0', '6', '4', '7']\n",
      "['a', 'k', ')', '$', '*', '0', '6', '4', '7']\n",
      "['4', '0', 'a', '$', '6', '*', ')', 'k', '7']\n",
      "rastgele oluşan şifreniz:  40a$6*)k7\n"
     ]
    }
   ],
   "source": [
    "import random\n",
    "letters = ['a', 'b', 'c', 'd', 'e', 'f', 'g', 'h', 'i', 'j', 'k', 'l', 'm', 'n', 'o', 'p', 'q', 'r', 's', 't', 'u', 'v', 'w', 'x', 'y', 'z', 'A', 'B', 'C', 'D', 'E', 'F', 'G', 'H', 'I', 'J', 'K', 'L', 'M', 'N', 'O', 'P', 'Q', 'R', 'S', 'T', 'U', 'V', 'W', 'X', 'Y', 'Z']\n",
    "numbers = ['0', '1', '2', '3', '4', '5', '6', '7', '8', '9']\n",
    "symbols = ['!', '#', '$', '%', '&', '(', ')', '*', '+']\n",
    "\n",
    "print(\"Random şifre oluşturucuya hoşgeldiniz \")\n",
    "nr_letters= int(input(\"şifrenizin kaç kelime olmasını istersiniz?\\n\")) \n",
    "nr_symbols = int(input(f\"kaç sembol barındırsın?\\n\"))\n",
    "nr_numbers = int(input(f\"kaç sayı barındırsın?\\n\"))\n",
    "\n",
    "password=[]\n",
    "for i in range(1,nr_letters+1):\n",
    "    password+=random.choice(letters)\n",
    "for i in range(1,nr_symbols+1):\n",
    "    password+=random.choice(symbols)\n",
    "for i in range(1,nr_numbers+1):\n",
    "    password+=random.choice(numbers)\n",
    "print(password)\n",
    "\n",
    "print(password)\n",
    "random.shuffle(password)\n",
    "print(password)\n",
    "\n",
    "passwordd = \"\"\n",
    "for char in password:\n",
    "  passwordd += char\n",
    "\n",
    "print(\"rastgele oluşan şifreniz: \",passwordd)\n",
    "\n"
   ]
  },
  {
   "cell_type": "code",
   "execution_count": null,
   "metadata": {},
   "outputs": [],
   "source": []
  }
 ],
 "metadata": {
  "kernelspec": {
   "display_name": "Python 3.10.8 64-bit (microsoft store)",
   "language": "python",
   "name": "python3"
  },
  "language_info": {
   "codemirror_mode": {
    "name": "ipython",
    "version": 3
   },
   "file_extension": ".py",
   "mimetype": "text/x-python",
   "name": "python",
   "nbconvert_exporter": "python",
   "pygments_lexer": "ipython3",
   "version": "3.10.8"
  },
  "orig_nbformat": 4,
  "vscode": {
   "interpreter": {
    "hash": "f9efe8616df34b93a5b20e3cc165fe4f9bfdf6f621702230f6a4e020f92c6ee2"
   }
  }
 },
 "nbformat": 4,
 "nbformat_minor": 2
}
