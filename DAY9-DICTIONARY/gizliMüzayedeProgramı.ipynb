{
 "cells": [
  {
   "cell_type": "code",
   "execution_count": 9,
   "metadata": {},
   "outputs": [],
   "source": [
    "from replit import clear\n",
    "#İPUCU: Konsoldaki çıktıyı temizlemek için clear() fonk. çağırabilirsiniz.\n",
    "import art"
   ]
  },
  {
   "attachments": {},
   "cell_type": "markdown",
   "metadata": {},
   "source": [
    "# Talimatlar\n",
    "\n",
    "Amaç, farklı kişilerin adlarını ve tekliflerini toplayacak bir program yazmaktır. Program, her teklif sahibinin adını ve teklifini ayrı ayrı sormalıdır.\n",
    "\n",
    "```\n",
    "Gizli müzayede programına hoş geldiniz.\n",
    "Adın ne?: Angela\n",
    "```\n",
    "```\n",
    "Teklifiniz nedir?: 123 $\n",
    "```\n",
    "```\n",
    "Başka teklif veren var mı? 'evet' veya 'hayır' yazın.\n",
    "evet\n",
    "\n",
    "```\n",
    "Başka teklif verenler varsa, ekran temizlenmeli, böylece telefonunuzu bir sonraki kişiye verebilirsiniz. Başka teklif veren yoksa, program kazananın adını ve kazanan teklifini göstermelidir.\n",
    "\n",
    "```\n",
    "Kazanan, 55000000000$'lık bir teklifle Elon oldu.\n",
    "```\n",
    "\n",
    "Bu zorluğu çözmek için Python sözlükleri ve döngüleri hakkındaki bilginizi kullanın."
   ]
  },
  {
   "cell_type": "code",
   "execution_count": 6,
   "metadata": {},
   "outputs": [
    {
     "name": "stdout",
     "output_type": "stream",
     "text": [
      "\n",
      "                         ___________\n",
      "                         \\         /\n",
      "                          )_______(\n",
      "                          |\"\"\"\"\"\"\"|_.-._,.---------.,_.-._\n",
      "                          |       | | |               | | ''-.\n",
      "                          |       |_| |_             _| |_..-'\n",
      "                          |_______| '-' `'---------'` '-'\n",
      "                          )\"\"\"\"\"\"\"(\n",
      "                         /_________\\\n",
      "                       .-------------.\n",
      "                      /_______________\\\n",
      "\n",
      "Gizli müzayede programına hoş geldiniz.\n",
      "kazanan: ali, verdiği teklif: 3423428 $\n",
      "{'umut': 99999, 'ali': 3423428}\n"
     ]
    }
   ],
   "source": [
    "import art\n",
    "logo=art.logo\n",
    "print(logo)\n",
    "print(\"Gizli müzayede programına hoş geldiniz.\")\n",
    "devam=True\n",
    "muzayede={}\n",
    "\n",
    "def enb(rekor):\n",
    "    kazanan=\"\"\n",
    "    sıra=0\n",
    "    for i in rekor:\n",
    "        teklifMik=rekor[i]\n",
    "        if teklifMik > sıra:\n",
    "           sıra=teklifMik\n",
    "           kazanan= i\n",
    "    print(f\"kazanan: {kazanan}, verdiği teklif: {sıra} $\")\n",
    "\n",
    "           \n",
    "\n",
    "\n",
    "while devam==True:\n",
    "    isim=input(\"adınız ne: \")\n",
    "    teklif=int(input(\"teklifiniz nedir: \"))\n",
    "    muzayede[isim]=teklif\n",
    "    a=input(\"Başka teklif veren var mı? 'E' veya 'H' yazın.\").lower()\n",
    "    if a==\"h\":\n",
    "        devam=False\n",
    "        enb(muzayede)\n",
    "    elif a==\"e\":\n",
    "        #clear()\n",
    "        devam=True\n",
    "\n",
    "\n",
    "print(muzayede)\n",
    "\n"
   ]
  },
  {
   "cell_type": "code",
   "execution_count": null,
   "metadata": {},
   "outputs": [],
   "source": []
  }
 ],
 "metadata": {
  "kernelspec": {
   "display_name": "Python 3",
   "language": "python",
   "name": "python3"
  },
  "language_info": {
   "codemirror_mode": {
    "name": "ipython",
    "version": 3
   },
   "file_extension": ".py",
   "mimetype": "text/x-python",
   "name": "python",
   "nbconvert_exporter": "python",
   "pygments_lexer": "ipython3",
   "version": "3.10.9 (tags/v3.10.9:1dd9be6, Dec  6 2022, 20:01:21) [MSC v.1934 64 bit (AMD64)]"
  },
  "orig_nbformat": 4,
  "vscode": {
   "interpreter": {
    "hash": "f9efe8616df34b93a5b20e3cc165fe4f9bfdf6f621702230f6a4e020f92c6ee2"
   }
  }
 },
 "nbformat": 4,
 "nbformat_minor": 2
}
