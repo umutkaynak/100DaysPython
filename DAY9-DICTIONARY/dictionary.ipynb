{
 "cells": [
  {
   "attachments": {},
   "cell_type": "markdown",
   "metadata": {},
   "source": [
    "    # sözlük tipindeki verileri eklemek için süslü parantez içine a:b, c:d şeklinde veriler girilere\",\" ile birbirinden ayrılarak kullanılır."
   ]
  },
  {
   "cell_type": "code",
   "execution_count": 1,
   "metadata": {},
   "outputs": [
    {
     "data": {
      "text/plain": [
       "dict"
      ]
     },
     "execution_count": 1,
     "metadata": {},
     "output_type": "execute_result"
    }
   ],
   "source": [
    "sözlük={\n",
    "    \"a\":\"ilk deneme\",\n",
    "    \"b\":\"ikinci deneme\"\n",
    "}\n",
    "type(sözlük)"
   ]
  },
  {
   "cell_type": "code",
   "execution_count": 15,
   "metadata": {},
   "outputs": [],
   "source": [
    "programming_dictionary = {\n",
    "\"Bug\": \"An error in a program that prevents the program from running as expected.\", \n",
    "\"Function\": \"A piece of code that you can easily call over and over again.\",\n",
    "\"Loop\": \"The action of doing something over and over again.\"}"
   ]
  },
  {
   "cell_type": "code",
   "execution_count": 16,
   "metadata": {},
   "outputs": [
    {
     "data": {
      "text/plain": [
       "dict"
      ]
     },
     "execution_count": 16,
     "metadata": {},
     "output_type": "execute_result"
    }
   ],
   "source": [
    "type(programming_dictionary)"
   ]
  },
  {
   "cell_type": "code",
   "execution_count": 17,
   "metadata": {},
   "outputs": [
    {
     "data": {
      "text/plain": [
       "{'Bug': 'An error in a program that prevents the program from running as expected.',\n",
       " 'Function': 'A piece of code that you can easily call over and over again.',\n",
       " 'Loop': 'The action of doing something over and over again.'}"
      ]
     },
     "execution_count": 17,
     "metadata": {},
     "output_type": "execute_result"
    }
   ],
   "source": [
    "#sözlük içindeki verileri silme\n",
    "kopya=programming_dictionary.copy()\n",
    "kopya"
   ]
  },
  {
   "cell_type": "code",
   "execution_count": 18,
   "metadata": {},
   "outputs": [
    {
     "data": {
      "text/plain": [
       "{'Bug': 'An error in a program that prevents the program from running as expected.',\n",
       " 'Function': 'A piece of code that you can easily call over and over again.',\n",
       " 'Loop': 'The action of doing something over and over again.',\n",
       " 'data': 'information.'}"
      ]
     },
     "execution_count": 18,
     "metadata": {},
     "output_type": "execute_result"
    }
   ],
   "source": [
    "programming_dictionary[\"data\"]=\"information.\"\n",
    "programming_dictionary"
   ]
  },
  {
   "cell_type": "code",
   "execution_count": 20,
   "metadata": {},
   "outputs": [
    {
     "data": {
      "text/plain": [
       "{}"
      ]
     },
     "execution_count": 20,
     "metadata": {},
     "output_type": "execute_result"
    }
   ],
   "source": [
    "kopya={}\n",
    "kopya"
   ]
  },
  {
   "cell_type": "code",
   "execution_count": 21,
   "metadata": {},
   "outputs": [
    {
     "data": {
      "text/plain": [
       "{'data': 'information.'}"
      ]
     },
     "execution_count": 21,
     "metadata": {},
     "output_type": "execute_result"
    }
   ],
   "source": [
    "#veri ekleme\n",
    "kopya[\"data\"]=\"information.\"\n",
    "kopya"
   ]
  },
  {
   "cell_type": "code",
   "execution_count": 22,
   "metadata": {},
   "outputs": [
    {
     "data": {
      "text/plain": [
       "{'Bug': 'A moth in your computer.',\n",
       " 'Function': 'A piece of code that you can easily call over and over again.',\n",
       " 'Loop': 'The action of doing something over and over again.',\n",
       " 'data': 'information.'}"
      ]
     },
     "execution_count": 22,
     "metadata": {},
     "output_type": "execute_result"
    }
   ],
   "source": [
    "#sözlük içerisirisindeki verileri düzenleme\n",
    "\n",
    "programming_dictionary[\"Bug\"]=\"A moth in your computer.\"\n",
    "programming_dictionary"
   ]
  },
  {
   "cell_type": "code",
   "execution_count": 23,
   "metadata": {},
   "outputs": [
    {
     "name": "stdout",
     "output_type": "stream",
     "text": [
      "Bug\n",
      "Function\n",
      "Loop\n",
      "data\n"
     ]
    }
   ],
   "source": [
    "#sözlükte döngü kullanmak\n",
    "for i in programming_dictionary:\n",
    "    print(i)"
   ]
  },
  {
   "cell_type": "code",
   "execution_count": 24,
   "metadata": {},
   "outputs": [
    {
     "name": "stdout",
     "output_type": "stream",
     "text": [
      "Bug\n",
      "A moth in your computer.\n",
      "Function\n",
      "A piece of code that you can easily call over and over again.\n",
      "Loop\n",
      "The action of doing something over and over again.\n",
      "data\n",
      "information.\n"
     ]
    }
   ],
   "source": [
    "for i in programming_dictionary:\n",
    "    print(i)\n",
    "    print(programming_dictionary[i])"
   ]
  },
  {
   "attachments": {},
   "cell_type": "markdown",
   "metadata": {},
   "source": [
    "Talimatlar\n",
    "student_scoresSözlük biçiminde bir veri tabanına erişiminiz var . Anahtarlar öğrencilerin adlarıdır ve değerler sınav puanlarıdır . _ student_scores_\n",
    "\n",
    "Puanlarını notlara çeviren bir program yazınız . Programınızın sonunda, anahtarlar için student_gradesöğrenci adlarını ve değerler için notlarını içermesi gereken yeni bir sözlüğe sahip olmalısınız . Sözlüğün son hali kontrol edilecektir.student_grades\n",
    "\n",
    "student_scoresMevcut sözlüğü değiştirmek için 1-7 satırlarını DEĞİŞTİRMEYİN .\n",
    "\n",
    "Basılı ifadeler YAZMAYIN .\n",
    "\n",
    "Bu puanlama kriterleri:\n",
    "\n",
    "Puanlar 91 - 100: Not = \"Outstanding\"\n",
    "\n",
    "Puanlar 81 - 90: Not = \"Exceeds Expectations\"\n",
    "\n",
    "Puanlar 71 - 80: Not = \"Acceptable\"\n",
    "\n",
    "70 veya daha düşük puanlar: Not = \"Fail\"\n",
    "\n",
    "Beklenen çıktı\n",
    "'{'Harry': 'Exceeds Expectations', 'Ron': 'Acceptable', 'Hermione': 'Outstanding', 'Draco': 'Acceptable', 'Neville': 'Fail'}'\n",
    "İpucu\n",
    "Bir Sözlükte dolaşmanın size değerleri değil yalnızca anahtarları vereceğini unutmayın .\n",
    "\n",
    "Kodunuzun neden beklediğinizi yapmadığından emin değilseniz, ara değerleri her zaman yazdırabilirsiniz.\n",
    "\n",
    "Programınızın sonunda print deyimi son sözlüğü gösterecektir student_scores, bunu değiştirmeyin."
   ]
  },
  {
   "cell_type": "code",
   "execution_count": 38,
   "metadata": {},
   "outputs": [
    {
     "data": {
      "text/plain": [
       "{'Harry': 'Exceeds Expectations',\n",
       " 'Ron': 'Acceptable',\n",
       " 'Hermione': 'Outstanding',\n",
       " 'Draco': 'Acceptable',\n",
       " 'Neville': 'Fail'}"
      ]
     },
     "execution_count": 38,
     "metadata": {},
     "output_type": "execute_result"
    }
   ],
   "source": [
    "student_scores = {\n",
    "  \"Harry\": 81,\n",
    "  \"Ron\": 78,\n",
    "  \"Hermione\": 99, \n",
    "  \"Draco\": 74,\n",
    "  \"Neville\": 62,\n",
    "}\n",
    "\n",
    "#TODO-1: Student_grades adlı boş bir sözlük oluşturun.\n",
    "student_grades={}\n",
    "\n",
    "#TODO-2: Notları öğrenci notlarına eklemek için aşağıya kodunuzu yazın.👇\n",
    "for i in student_scores:\n",
    "    skor=student_scores[i]\n",
    "    if skor>90:\n",
    "         student_grades[i] = \"Outstanding\"\n",
    "    elif skor>80:\n",
    "         student_grades[i] = \"Exceeds Expectations\"\n",
    "    elif skor >70:\n",
    "         student_grades[i] = \"Acceptable\"\n",
    "    else:\n",
    "         student_grades[i] = \"Fail\"\n",
    "         \n",
    "        \n",
    "student_grades\n"
   ]
  },
  {
   "cell_type": "code",
   "execution_count": 39,
   "metadata": {},
   "outputs": [
    {
     "data": {
      "text/plain": [
       "{'Harry': 'Exceeds Expectations',\n",
       " 'Ron': 'Acceptable',\n",
       " 'Hermione': 'Outstanding',\n",
       " 'Draco': 'Acceptable',\n",
       " 'Neville': 'Fail'}"
      ]
     },
     "execution_count": 39,
     "metadata": {},
     "output_type": "execute_result"
    }
   ],
   "source": [
    "student_grades"
   ]
  },
  {
   "attachments": {},
   "cell_type": "markdown",
   "metadata": {},
   "source": [
    "                                    NESTING- İÇ İÇİNE GEÇME KAVRAMI"
   ]
  },
  {
   "cell_type": "code",
   "execution_count": 1,
   "metadata": {},
   "outputs": [],
   "source": [
    "#NESTING\n",
    "capitals={\"france\":\"paris\",\n",
    "          \"gemany\":\"berlin\"}\n",
    "#liste içindeki verileri iç içe gösterme\n",
    "travelLog={\"france\":[\"paris\",\"lille\",\"dijon\"],\n",
    "                     \"germany\":[\"berlin\",\"hamburg\",\"stuttgart\"]\n",
    "                                }"
   ]
  },
  {
   "cell_type": "code",
   "execution_count": 3,
   "metadata": {},
   "outputs": [
    {
     "data": {
      "text/plain": [
       "{'france': {'citiseVisited': {'dijon', 'lille', 'paris'}, 'totalVisits': 12},\n",
       " 'germany': {'citiseVisited': {'berling', 'hamburg', 'stuttgard'},\n",
       "  'totalVisits': 5}}"
      ]
     },
     "execution_count": 3,
     "metadata": {},
     "output_type": "execute_result"
    }
   ],
   "source": [
    "travelCenter={\"france\":{\"citiseVisited\":{\"paris\",\"lille\",\"dijon\"},\"totalVisits\":12},\n",
    "\"germany\":[\"berlin\",\"hamburg\",\"stuttgart\"]}\n",
    "travelCenter\n",
    "\n",
    "travelCenter={\"france\":{\"citiseVisited\":{\"paris\",\"lille\",\"dijon\"},\"totalVisits\":12},\n",
    "\"germany\":{\"citiseVisited\":{\"berling\",\"hamburg\",\"stuttgard\"}, \"totalVisits\":5}\n",
    "}\n",
    "travelCenter\n"
   ]
  },
  {
   "cell_type": "code",
   "execution_count": 10,
   "metadata": {},
   "outputs": [],
   "source": [
    "#sözlüğü bir listeye yerleştirme\n",
    "travelLog=[\n",
    "    {\"country\":\"france\", \n",
    "     \"citiesVisited\":[\"paris\",\"lille\",\"dijon\"],\n",
    "                      \"totalVisits\":12},\n",
    "    {\"country\":\"germany\",\n",
    "     \"citiesVisited\":[\"hamburg\",\"berlin\",\"stuttgard\"],\n",
    "                      \"totalVisits\":5}\n",
    "]"
   ]
  },
  {
   "cell_type": "code",
   "execution_count": 11,
   "metadata": {},
   "outputs": [
    {
     "data": {
      "text/plain": [
       "[{'country': 'france',\n",
       "  'citiesVisited': ['paris', 'lille', 'dijon'],\n",
       "  'totalVisits': 12},\n",
       " {'country': 'germany',\n",
       "  'citiesVisited': ['hamburg', 'berlin', 'stuttgard'],\n",
       "  'totalVisits': 5}]"
      ]
     },
     "execution_count": 11,
     "metadata": {},
     "output_type": "execute_result"
    }
   ],
   "source": [
    "travelLog"
   ]
  },
  {
   "cell_type": "code",
   "execution_count": 21,
   "metadata": {},
   "outputs": [
    {
     "name": "stdout",
     "output_type": "stream",
     "text": [
      "[{'country': 'France', 'visits': 12, 'cities': ['Paris', 'Lille', 'Dijon']}, {'country': 'Germany', 'visits': 5, 'cities': ['Berlin', 'Hamburg', 'Stuttgart']}, {'country': 'Russia', 'visits': 2, 'cities': ['Moscow', 'Saint Petersburg']}]\n",
      "[{'country': 'France', 'visits': 12, 'cities': ['Paris', 'Lille', 'Dijon']}, {'country': 'Germany', 'visits': 5, 'cities': ['Berlin', 'Hamburg', 'Stuttgart']}, {'country': 'Russia', 'visits': 2, 'cities': ['Moscow', 'Saint Petersburg']}]\n"
     ]
    }
   ],
   "source": [
    "travel_log = [\n",
    "{\n",
    "  \"country\": \"France\",\n",
    "  \"visits\": 12,\n",
    "  \"cities\": [\"Paris\", \"Lille\", \"Dijon\"]\n",
    "},\n",
    "{\n",
    "  \"country\": \"Germany\",\n",
    "  \"visits\": 5,\n",
    "  \"cities\": [\"Berlin\", \"Hamburg\", \"Stuttgart\"]\n",
    "},\n",
    "]\n",
    "#🚨 Do NOT change the code above\n",
    "\n",
    "#TODO: Yeni ülkelere izin verecek işlevi yazın\n",
    "# travel_log'a eklenecek. 👇\n",
    "\n",
    "def add_new_country(ülke,sayi,sehir):\n",
    "    seyehat={}\n",
    "    seyehat[\"country\"]=ülke\n",
    "    seyehat[\"visits\"]=sayi\n",
    "    seyehat[\"cities\"]=sehir\n",
    "    \n",
    "    travel_log.append(seyehat)\n",
    "    print(travel_log)\n",
    "\n",
    "\n",
    "\n",
    "\n",
    "\n",
    "\n",
    "#🚨 Do not change the code below\n",
    "add_new_country(\"Russia\", 2, [\"Moscow\", \"Saint Petersburg\"])\n",
    "print(travel_log)\n"
   ]
  },
  {
   "cell_type": "code",
   "execution_count": 28,
   "metadata": {},
   "outputs": [],
   "source": [
    "order = {\n",
    "    \"starter\": {1: \"Salad\", 2: \"Soup\"},\n",
    "    \"main\": {1: [\"Burger\", \"Fries\"], 2: [\"Steak\"]},\n",
    "    \"dessert\": {1: [\"Ice Cream\"], 2: []},\n",
    "}"
   ]
  },
  {
   "cell_type": "code",
   "execution_count": 31,
   "metadata": {},
   "outputs": [
    {
     "data": {
      "text/plain": [
       "'Steak'"
      ]
     },
     "execution_count": 31,
     "metadata": {},
     "output_type": "execute_result"
    }
   ],
   "source": [
    "order[\"main\"][2][0]"
   ]
  },
  {
   "cell_type": "code",
   "execution_count": null,
   "metadata": {},
   "outputs": [],
   "source": []
  }
 ],
 "metadata": {
  "kernelspec": {
   "display_name": "Python 3",
   "language": "python",
   "name": "python3"
  },
  "language_info": {
   "codemirror_mode": {
    "name": "ipython",
    "version": 3
   },
   "file_extension": ".py",
   "mimetype": "text/x-python",
   "name": "python",
   "nbconvert_exporter": "python",
   "pygments_lexer": "ipython3",
   "version": "3.10.9 (tags/v3.10.9:1dd9be6, Dec  6 2022, 20:01:21) [MSC v.1934 64 bit (AMD64)]"
  },
  "orig_nbformat": 4,
  "vscode": {
   "interpreter": {
    "hash": "f9efe8616df34b93a5b20e3cc165fe4f9bfdf6f621702230f6a4e020f92c6ee2"
   }
  }
 },
 "nbformat": 4,
 "nbformat_minor": 2
}
