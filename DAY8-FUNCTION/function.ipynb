{
 "cells": [
  {
   "attachments": {},
   "cell_type": "markdown",
   "metadata": {},
   "source": [
    "# Gözden geçirmek:\n",
    "# Greet() adlı bir işlev oluşturun.\n",
    "# Fonksiyonun içine 3 adet print deyimi yazın.\n",
    "# greet() işlevini çağırın ve kodunuzu çalıştırın."
   ]
  },
  {
   "cell_type": "code",
   "execution_count": 2,
   "metadata": {},
   "outputs": [
    {
     "name": "stdout",
     "output_type": "stream",
     "text": [
      "a\n",
      "b\n",
      "c\n"
     ]
    }
   ],
   "source": [
    "def greet():\n",
    "  print(\"a\")\n",
    "  print(\"b\")\n",
    "  print(\"c\")\n",
    "\n",
    "greet()"
   ]
  },
  {
   "attachments": {},
   "cell_type": "markdown",
   "metadata": {},
   "source": [
    "# girişi sağlayan fonksiyon"
   ]
  },
  {
   "cell_type": "code",
   "execution_count": 9,
   "metadata": {},
   "outputs": [
    {
     "name": "stdout",
     "output_type": "stream",
     "text": [
      "hi umut hello\n",
      "adınız umut ad\n"
     ]
    }
   ],
   "source": [
    "def greet_with_name(name):\n",
    "    print(f\"hi {name} hello\")\n",
    "    print(f\"adınız {name} ad\")\n",
    "\n",
    "\n",
    "greet_with_name('umut')"
   ]
  },
  {
   "cell_type": "code",
   "execution_count": 10,
   "metadata": {},
   "outputs": [
    {
     "name": "stdout",
     "output_type": "stream",
     "text": [
      "hi umut hello\n",
      "adınız kaynak ad\n"
     ]
    }
   ],
   "source": [
    "#1'den fazla girişli fonksiyonlar\n",
    "def greet_with_name(name,lokasyon ):\n",
    "    print(f\"hi {name} hello\")\n",
    "    print(f\"adınız {lokasyon} ad\")\n",
    "\n",
    "greet_with_name(\"umut\",\"kaynak\")"
   ]
  },
  {
   "cell_type": "code",
   "execution_count": 11,
   "metadata": {},
   "outputs": [
    {
     "name": "stdout",
     "output_type": "stream",
     "text": [
      "hi umut hello\n",
      "adınız kaynak ad\n"
     ]
    }
   ],
   "source": [
    "#değişkenleri isimlendirme\n",
    "def greet_with_name(name=\"umut\",lokasyon=\"kaynak\" ):\n",
    "    print(f\"hi {name} hello\")\n",
    "    print(f\"adınız {lokasyon} ad\")\n",
    "\n",
    "greet_with_name()"
   ]
  },
  {
   "attachments": {},
   "cell_type": "markdown",
   "metadata": {},
   "source": [
    "Talimatlar\n",
    "Bir duvar çiziyorsun. Boya kutusunun üzerindeki talimatta 1 kutu boyanın 5 metrekare duvar kaplayabileceği yazıyor . Rastgele bir duvar yüksekliği ve genişliği verildiğinde, kaç kutu boya almanız gerektiğini hesaplayın.\n",
    "\n",
    "kutu sayısı = (duvar yüksekliği x duvar genişliği) ÷ kutu başına kaplama.\n",
    "\n",
    "örneğin Yükseklik = 2, Genişlik = 4, Kapsam = 5\n",
    "\n",
    "kutu sayısı = (2 * 4) / 5\n",
    "\n",
    "                           = 1.6\n",
    "\n",
    "Ancak 0,6 kutu boya alamayacağınız için sonuç 2 kutuya yuvarlanmalıdır .\n",
    "\n",
    "ÖNEMLİ: Kodun çalışması için işlevin adının ve parametrelerin 13. satırdakilerle eşleşmesi gerektiğine dikkat edin.\n",
    "\n",
    "Örnek Giriş\n",
    "test_h = 3\n",
    "test_w = 9\n",
    "Örnek Çıktı\n",
    "You'll need 6 cans of paint."
   ]
  },
  {
   "cell_type": "code",
   "execution_count": 17,
   "metadata": {},
   "outputs": [
    {
     "name": "stdout",
     "output_type": "stream",
     "text": [
      "duvarınıza 10 kutu boya gitmekte\n"
     ]
    }
   ],
   "source": [
    "def boya():\n",
    "    yük =int(input(\"yüksekliği gir\"))\n",
    "    gen=int(input(\"yüksekliği gir\"))\n",
    "    kapsam =5\n",
    "    kutSAy=(yük * gen)/kapsam\n",
    "    snc=round(kutSAy + 0.5)\n",
    "    print(f\"duvarınıza {snc} kutu boya gitmekte\")\n",
    "\n",
    "boya()\n"
   ]
  },
  {
   "attachments": {},
   "cell_type": "markdown",
   "metadata": {},
   "source": [
    "# ASAL SAYI BULAN FONK. \n",
    "Örnek Giriş 1\n",
    "73\n",
    "Örnek Çıktı 1\n",
    "It's a prime number.\n",
    "Örnek Giriş 2\n",
    "75\n",
    "Örnek Çıktı 2\n",
    "It's not a prime number."
   ]
  },
  {
   "cell_type": "code",
   "execution_count": 14,
   "metadata": {},
   "outputs": [
    {
     "name": "stdout",
     "output_type": "stream",
     "text": [
      "asal değil\n"
     ]
    }
   ],
   "source": [
    "def asal(say):\n",
    "    asalmı= True\n",
    "    for i in range(2,say):\n",
    "        if say%i==0:\n",
    "            asalmı= False\n",
    "    if asalmı:\n",
    "                  print(\"asal\")\n",
    "    else:\n",
    "                    print(\"asal değil\")\n",
    "    \n",
    "\n",
    "asal(12)"
   ]
  },
  {
   "cell_type": "code",
   "execution_count": 15,
   "metadata": {},
   "outputs": [
    {
     "name": "stdout",
     "output_type": "stream",
     "text": [
      "11 sayısı asaldır.\n"
     ]
    }
   ],
   "source": [
    "def asal():\n",
    "    n=int(input(\"sayınızı gir : \"))\n",
    "    asalmı= True\n",
    "    for i in range(2,n):\n",
    "        if n%i==0:\n",
    "            asalmı= False\n",
    "    if asalmı:\n",
    "                  print(f\"{n} sayısı asaldır.\")\n",
    "    else:\n",
    "                    print(f\"{n} sayısı asal değildir.\")\n",
    "    \n",
    "\n",
    "asal()"
   ]
  }
 ],
 "metadata": {
  "kernelspec": {
   "display_name": "Python 3",
   "language": "python",
   "name": "python3"
  },
  "language_info": {
   "codemirror_mode": {
    "name": "ipython",
    "version": 3
   },
   "file_extension": ".py",
   "mimetype": "text/x-python",
   "name": "python",
   "nbconvert_exporter": "python",
   "pygments_lexer": "ipython3",
   "version": "3.10.9"
  },
  "orig_nbformat": 4,
  "vscode": {
   "interpreter": {
    "hash": "f9efe8616df34b93a5b20e3cc165fe4f9bfdf6f621702230f6a4e020f92c6ee2"
   }
  }
 },
 "nbformat": 4,
 "nbformat_minor": 2
}
