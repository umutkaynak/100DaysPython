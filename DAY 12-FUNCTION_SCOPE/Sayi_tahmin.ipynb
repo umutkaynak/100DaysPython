{
 "cells": [
  {
   "cell_type": "code",
   "execution_count": 2,
   "metadata": {},
   "outputs": [],
   "source": [
    "import art\n",
    "import random\n",
    "tahminSay=random.randint(1,100)\n",
    "tahminEdilecekSay=0\n",
    "zorluk=\"kolay\"\n",
    "hak=10\n"
   ]
  },
  {
   "cell_type": "code",
   "execution_count": 6,
   "metadata": {},
   "outputs": [
    {
     "name": "stdout",
     "output_type": "stream",
     "text": [
      " \n",
      "\n",
      "\n",
      "   ____   ___ __  __   ____      ______   ___    __ __   __  ___   ____   _  __\n",
      "  / __/  / _ |\\ \\/ /  /  _/     /_  __/  / _ |  / // /  /  |/  /  /  _/  / |/ /\n",
      " _\\ \\   / __ | \\  /  _/ /        / /    / __ | / _  /  / /|_/ /  _/ /   /    /\n",
      "/___/  /_/ |_| /_/  /___/       /_/    /_/ |_|/_//_/  /_/  /_/  /___/  /_/|_/\n",
      "\n",
      "                                                        \n",
      "\n",
      "\n",
      "!!!Sayı Tahmin Etme Oyunumuza Hoşgeldiniz!!!!!\n",
      "tahmin edilecek sayı: 15\n",
      "zorluk derecesini seçin: -zor- veya -kolay-\n",
      "zor modu seçtiniz 5 tahmin hakkınız var\n",
      " tahmininiz 11, sayınızı artırın ve 4 hakkınız kaldı\n",
      "tahmininiz 90, sayınızı azaltın ve 3 hakkınız kaldı\n",
      "tahmininiz 33, sayınızı azaltın ve 2 hakkınız kaldı\n",
      " tahmininiz 4, sayınızı artırın ve 1 hakkınız kaldı\n",
      " tahmininiz 5, sayınızı artırın ve 0 hakkınız kaldı\n",
      "üzgünüm hakkınız doldu.\n"
     ]
    }
   ],
   "source": [
    "print(art.logo)\n",
    "print(\"!!!Sayı Tahmin Etme Oyunumuza Hoşgeldiniz!!!!!\")\n",
    "print(f\"tahmin edilecek sayı: {tahminSay}\")\n",
    "print(\"zorluk derecesini seçin: -zor- veya -kolay-\")\n",
    "\n",
    "def hak_azalt():\n",
    "    global hak\n",
    "    hak-=1\n",
    "    return hak\n",
    "\n",
    "zorluk=input(\"zor mu kolay mı olsun ?\")\n",
    "\n",
    "if zorluk==\"zor\":\n",
    "    print(\"zor modu seçtiniz 5 tahmin hakkınız var\")\n",
    "    hak=5\n",
    "    while hak > 0:\n",
    "        tahminEdilecekSay=int(input(\"sayıyı tahmin ediniz: \"))\n",
    "        if tahminEdilecekSay==tahminSay:\n",
    "            print(f\"tebrikler bildiniz ve tahmin ettiğiniz sayı {tahminSay}\")\n",
    "            break\n",
    "        else:\n",
    "            hak-=1\n",
    "            if tahminSay > tahminEdilecekSay:\n",
    "                print(f\" tahmininiz {tahminEdilecekSay}, sayınızı artırın ve {hak} hakkınız kaldı\")\n",
    "            if tahminSay < tahminEdilecekSay:\n",
    "                print(f\"tahmininiz {tahminEdilecekSay}, sayınızı azaltın ve {hak} hakkınız kaldı\")\n",
    "    if hak==0:\n",
    "        print(\"üzgünüm hakkınız doldu.\")\n",
    "if zorluk==\"kolay\":\n",
    "    print(\"kolay modu seçtiniz 10 tahminiz var\")\n",
    "    hak=10\n",
    "    while hak >0:\n",
    "        tahminEdilecekSay=int(input(\"sayıyı tahmin ediniz : \"))\n",
    "        if tahminEdilecekSay==tahminSay:\n",
    "            print(f\"tebrikler bildiniz ve tahmin ettiğiniz sayı {tahminSay}\")\n",
    "            break\n",
    "        else:\n",
    "            hak-=1\n",
    "            if tahminSay > tahminEdilecekSay:\n",
    "                print(f\" tahmininiz {tahminEdilecekSay}, sayınızı artırın ve {hak} hakkınız kaldı\")\n",
    "            if tahminSay < tahminEdilecekSay:\n",
    "                print(f\"tahmininiz {tahminEdilecekSay}, sayınızı azaltın ve {hak} hakkınız kaldı\")\n",
    "    if hak==0:\n",
    "        print(\"üzgünüm hakkınız doldu.\")\n",
    "            \n"
   ]
  },
  {
   "cell_type": "code",
   "execution_count": null,
   "metadata": {},
   "outputs": [],
   "source": []
  }
 ],
 "metadata": {
  "kernelspec": {
   "display_name": "Python 3",
   "language": "python",
   "name": "python3"
  },
  "language_info": {
   "codemirror_mode": {
    "name": "ipython",
    "version": 3
   },
   "file_extension": ".py",
   "mimetype": "text/x-python",
   "name": "python",
   "nbconvert_exporter": "python",
   "pygments_lexer": "ipython3",
   "version": "3.10.9"
  },
  "orig_nbformat": 4,
  "vscode": {
   "interpreter": {
    "hash": "f9efe8616df34b93a5b20e3cc165fe4f9bfdf6f621702230f6a4e020f92c6ee2"
   }
  }
 },
 "nbformat": 4,
 "nbformat_minor": 2
}
