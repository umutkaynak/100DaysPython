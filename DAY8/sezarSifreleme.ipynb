{
 "cells": [
  {
   "attachments": {},
   "cell_type": "markdown",
   "metadata": {},
   "source": [
    "    # sezar şifreleme ; girilen metinin belirli miktarda kaydırarak yeniden şifreli metin elde etmesi demektir."
   ]
  },
  {
   "attachments": {},
   "cell_type": "markdown",
   "metadata": {},
   "source": [
    "#TODO-1: 'metin' ve 'shift'i girdi olarak alan 'şifreleme' adlı bir işlev oluşturun.\n",
    "\n",
    "     #TODO-2: 'Şifreleme' işlevinde, 'metnin' her harfini alfabede kaydırma miktarı kadar ileri kaydır ve şifreli metni yazdır.\n",
    "     #Örneğin.\n",
    "     #plain_text = \"hello\"\n",
    "     #shift = 5\n",
    "     #cipher_text = \"mjqqt\"\n",
    "     #print çıktısı: \"Kodlanmış metin mjqqt\"\n",
    "\n",
    "     ##İPUCU: Listedeki bir öğenin dizinini nasıl alırsınız:\n",
    "     #https://stackoverflow.com/questions/176918/finding-the-index-of-an-item-in-a-list\n",
    "\n",
    "     ##🐛Hata uyarısı: 'civilization' kelimesini kodlamaya çalışırsan ne olur?🐛\n",
    "\n",
    "#TODO-3: Şifreleme işlevini çağırın ve kullanıcı girişlerini iletin. Kodu test edebilmeli ve bir mesajı şifreleyebilmelisiniz."
   ]
  },
  {
   "cell_type": "code",
   "execution_count": 44,
   "metadata": {},
   "outputs": [
    {
     "name": "stdout",
     "output_type": "stream",
     "text": [
      "kodlanmış metniniz : dix\n"
     ]
    }
   ],
   "source": [
    "#1.adım\n",
    "def sezar():\n",
    "    #alfabede bulunan z harfinin devamı için 2 kere tekrar ettik.\n",
    "    alfabe = ['a', 'b', 'c', 'd', 'e', 'f', 'g', 'h', 'i', 'j', 'k', 'l', 'm', 'n', 'o', 'p', 'q', 'r', 's', 't', 'u', 'v', 'w', 'x', 'y', 'z','a', 'b', 'c', 'd', 'e', 'f', 'g', 'h', 'i', 'j', 'k', 'l', 'm', 'n', 'o', 'p', 'q', 'r', 's', 't', 'u', 'v', 'w', 'x', 'y', 'z']\n",
    "\n",
    "    direction = input(\"Type 'encode' to encrypt, type 'decode' to decrypt:\\n\").lower()\n",
    "    text = input(\"Type your message:\\n\").lower()\n",
    "    shift = int(input(\"Type the shift number:\\n\"))\n",
    "    kayanMetin=\"\"\n",
    "    #2.adım\n",
    "    for i in text:\n",
    "        pozisyon=alfabe.index(i)\n",
    "        yeniPoz=pozisyon+shift\n",
    "        kayanMetin+=alfabe[yeniPoz]\n",
    "    print(f\"kodlanmış metniniz : {kayanMetin}\")\n",
    "\n",
    "sezar()\n"
   ]
  },
  {
   "attachments": {},
   "cell_type": "markdown",
   "metadata": {},
   "source": [
    "    # şifreli girilen metni çevirmek"
   ]
  },
  {
   "attachments": {},
   "cell_type": "markdown",
   "metadata": {},
   "source": [
    "#TODO-1: 'metin' ve 'shift'i girdi olarak alan 'decrypt' adlı farklı bir fonksiyon oluşturun.\n",
    "\n",
    "   #TODO-2: 'şifre çözme' fonksiyonun içinde, alfabedeki 'metnin' her harfini kaydırma miktarı kadar *geriye doğru* kaydırın ve şifresi çözülmüş metni yazdırın.\n",
    "   #Örneğin.\n",
    "   #cipher_text = \"mjqqt\"\n",
    "   #kaydırma = 5\n",
    "   #plain_text = \"hello\"\n",
    "   #print çıktısı: \"Kodu çözülmüş metin hello\"\n",
    "\n",
    "\n",
    "#TODO-3: Kullanıcının 'drection' değişkenini kontrol ederek mesajı şifrelemek mi yoksa şifresini çözmek mi istediğini kontrol edin. Ardından, bu 'drection' değişkenine göre doğru fonksiyonu çağırın. *AND* bir iletinin şifresini çözmek için kodu test edebilmeniz gerekir."
   ]
  },
  {
   "cell_type": "code",
   "execution_count": 3,
   "metadata": {},
   "outputs": [
    {
     "ename": "ValueError",
     "evalue": "' ' is not in list",
     "output_type": "error",
     "traceback": [
      "\u001b[1;31m---------------------------------------------------------------------------\u001b[0m",
      "\u001b[1;31mValueError\u001b[0m                                Traceback (most recent call last)",
      "Cell \u001b[1;32mIn [3], line 9\u001b[0m\n\u001b[0;32m      6\u001b[0m kayanMetin\u001b[39m=\u001b[39m\u001b[39m\"\u001b[39m\u001b[39m\"\u001b[39m\n\u001b[0;32m      8\u001b[0m \u001b[39mfor\u001b[39;00m i \u001b[39min\u001b[39;00m text:\n\u001b[1;32m----> 9\u001b[0m     pozisyon\u001b[39m=\u001b[39malfabe\u001b[39m.\u001b[39mindex(i)\n\u001b[0;32m     10\u001b[0m     yeniPoz\u001b[39m=\u001b[39mpozisyon\u001b[39m-\u001b[39mshift\n\u001b[0;32m     11\u001b[0m     kayanMetin\u001b[39m+\u001b[39m\u001b[39m=\u001b[39malfabe[yeniPoz]\n",
      "\u001b[1;31mValueError\u001b[0m: ' ' is not in list"
     ]
    }
   ],
   "source": [
    "alfabe = ['a', 'b', 'c', 'd', 'e', 'f', 'g', 'h', 'i', 'j', 'k', 'l', 'm', 'n', 'o', 'p', 'q', 'r', 's', 't', 'u', 'v', 'w', 'x', 'y', 'z','a', 'b', 'c', 'd', 'e', 'f', 'g', 'h', 'i', 'j', 'k', 'l', 'm', 'n', 'o', 'p', 'q', 'r', 's', 't', 'u', 'v', 'w', 'x', 'y', 'z']\n",
    "\n",
    "direction = input(\"Type 'encode' to encrypt, type 'decode' to decrypt:\\n\").lower()\n",
    "text = input(\"Type your message:\\n\").lower()\n",
    "shift = int(input(\"Type the shift number:\\n\"))\n",
    "kayanMetin=\"\"\n",
    "\n",
    "for i in text:\n",
    "    pozisyon=alfabe.index(i)\n",
    "    yeniPoz=pozisyon-shift\n",
    "    kayanMetin+=alfabe[yeniPoz]\n",
    "print(f\" tersine kodlanmış metin : {kayanMetin}\")\n"
   ]
  },
  {
   "attachments": {},
   "cell_type": "markdown",
   "metadata": {},
   "source": [
    "    #birden fazla yerde fonk bulnan kodu temizleyerek tek bir fonk içierisinde birleştirme  "
   ]
  },
  {
   "cell_type": "code",
   "execution_count": 15,
   "metadata": {},
   "outputs": [
    {
     "name": "stdout",
     "output_type": "stream",
     "text": [
      " kodlanan metin : hello\n"
     ]
    }
   ],
   "source": [
    " \n",
    "\n",
    "def ceaser():\n",
    "\n",
    "    alfabe = ['a', 'b', 'c', 'd', 'e', 'f', 'g', 'h', 'i', 'j', 'k', 'l', 'm', 'n', 'o', 'p', 'q', 'r', 's', 't', 'u', 'v', 'w', 'x', 'y', 'z','a', 'b', 'c', 'd', 'e', 'f', 'g', 'h', 'i', 'j', 'k', 'l', 'm', 'n', 'o', 'p', 'q', 'r', 's', 't', 'u', 'v', 'w', 'x', 'y', 'z']\n",
    "\n",
    "    direction = input(\"Type 'encode' to encrypt, type 'decode' to decrypt:\\n\").lower()\n",
    "    text = input(\"Type your message:\\n\").lower()\n",
    "    shift = int(input(\"Type the shift number:\\n\"))\n",
    "    kayanMetin=\"\"\n",
    "    if direction==\"encode\":\n",
    "        for i in text:\n",
    "            pozisyon=alfabe.index(i)\n",
    "            yeniPoz=pozisyon+shift\n",
    "            kayanMetin+=alfabe[yeniPoz]\n",
    "        print(f\" kodlanan metin : {kayanMetin}\")\n",
    "    \n",
    "    elif direction==\"decode\":\n",
    "         for i in text:\n",
    "             pozisyon=alfabe.index(i)\n",
    "             yeniPoz=pozisyon-shift\n",
    "             kayanMetin+=alfabe[yeniPoz]\n",
    "         print(f\" kodlanan metin : {kayanMetin}\")\n",
    "             \n",
    "ceaser()\n",
    "\n"
   ]
  },
  {
   "cell_type": "code",
   "execution_count": 1,
   "metadata": {},
   "outputs": [],
   "source": [
    "import art"
   ]
  },
  {
   "attachments": {},
   "cell_type": "markdown",
   "metadata": {},
   "source": [
    "#TODO-3: Kullanıcı bir sayı/sembol/boşluk girerse ne olur?\n",
    "   \n",
    "      #Metin kodlanırken/kod çözülürken sayının/sembolün/boşluğun kalması için kodu düzeltebilir misin?\n",
    "\n",
    "      #Örneğin. start_text = \"benimle saat 3'te buluş\"\n",
    "      \n",
    "      #end_text = \"•••• •• •• 3\"\n",
    "\n",
    "\n",
    "   #TODO-1: Program başladığında logoyu art.py'den içe aktarın ve yazdırın.\n",
    "\n",
    "   #TODO-4: Kullanıcıya şifre programını yeniden başlatmak isteyip istemediğini sormanın bir yolunu bulabilir misin?\n",
    "   \n",
    "      #Örneğin. Tekrar gitmek istiyorsanız 'evet' yazın. Aksi takdirde 'hayır' yazın.\n",
    "      #Eğer 'evet' yazarlarsa, onlardan yönü/metni/kaydırmayı tekrar iste ve caesar() işlevini tekrar çağır?\n",
    "      #İpucu: Kullanıcı 'evet' yazarsa programı yürütmeye devam eden bir süre döngüsü oluşturmayı deneyin.\n",
    "\n",
    "   #TODO-2: Kullanıcı alfabedeki harf sayısından daha fazla bir vardiya girerse ne olur?\n",
    "   \n",
    "      #Programı çalıştırmayı ve 45'lik bir vardiya numarası girmeyi dene.\n",
    "      #Kullanıcı 26'dan büyük bir vardiya numarası girse bile programın çalışmaya devam etmesi için kod ekle.\n",
    "      #İpucu: Modülü (%) nasıl kullanabileceğinizi düşünün."
   ]
  },
  {
   "cell_type": "code",
   "execution_count": 9,
   "metadata": {},
   "outputs": [
    {
     "name": "stdout",
     "output_type": "stream",
     "text": [
      "4\n",
      "6\n",
      "8\n"
     ]
    }
   ],
   "source": [
    "devam=True\n",
    "ek=2\n",
    "while devam:\n",
    "    ek=ek+2\n",
    "    print(ek)\n",
    "    snc=input(\"devam etmek istiyoru musun\")\n",
    "    if snc==\"e\".lower():\n",
    "        devam=True\n",
    "    elif snc==\"h\".lower():\n",
    "        devam=False"
   ]
  },
  {
   "cell_type": "code",
   "execution_count": null,
   "metadata": {},
   "outputs": [],
   "source": [
    "alfabe = ['a', 'b', 'c', 'd', 'e', 'f', 'g', 'h', 'i', 'j', 'k', 'l', 'm', 'n', 'o', 'p', 'q', 'r', 's', 't', 'u', 'v', 'w', 'x', 'y', 'z','a', 'b', 'c', 'd', 'e', 'f', 'g', 'h', 'i', 'j', 'k', 'l', 'm', 'n', 'o', 'p', 'q', 'r', 's', 't', 'u', 'v', 'w', 'x', 'y', 'z']\n",
    "\n",
    "#direction = input(\"Type 'encode' to encrypt, type 'decode' to decrypt:\\n\").lower()\n",
    "text = input(\"Type your message:\\n\").lower()\n",
    "shift = int(input(\"Type the shift number:\\n\"))\n",
    "kayanMetin=\"\"\n",
    "for i in text:\n",
    "    pozisyon=alfabe.index(i)\n",
    "    yeniPoz=pozisyon+shift\n",
    "    kayanMetin+=alfabe[yeniPoz]\n",
    "    \n",
    "\n",
    "\n"
   ]
  },
  {
   "cell_type": "code",
   "execution_count": 13,
   "metadata": {},
   "outputs": [
    {
     "data": {
      "text/plain": [
       "21"
      ]
     },
     "execution_count": 13,
     "metadata": {},
     "output_type": "execute_result"
    }
   ],
   "source": [
    "shift = int(input(\"Type the shift number:\\n\"))\n",
    "kalan=shift%26\n",
    "kalan\n",
    "\n"
   ]
  },
  {
   "cell_type": "code",
   "execution_count": 34,
   "metadata": {},
   "outputs": [
    {
     "name": "stdout",
     "output_type": "stream",
     "text": [
      "           \n",
      " ,adPPYba, ,adPPYYba,  ,adPPYba, ,adPPYba, ,adPPYYba, 8b,dPPYba,  \n",
      "a8\"     \"\" \"\"     `Y8 a8P_____88 I8[    \"\" \"\"     `Y8 88P'   \"Y8  \n",
      "8b         ,adPPPPP88 8PP\"  `\"Y8ba,  ,adPPPPP88 88          \n",
      "\"8a,   ,aa 88,    ,88 \"8b,   ,aa aa    ]8I 88,    ,88 88          \n",
      " `\"Ybbd8\"' `\"8bbdP\"Y8  `\"Ybbd8\"' `\"YbbdP\"' `\"8bbdP\"Y8 88   \n",
      "            88             88                                 \n",
      "           \"\"             88                                 \n",
      "                          88                                 \n",
      " ,adPPYba, 88 8b,dPPYba,  88,dPPYba,   ,adPPYba, 8b,dPPYba,  \n",
      "a8\"     \"\" 88 88P'    \"8a 88P'    \"8a a8P_____88 88P'   \"Y8  \n",
      "8b         88 88       d8 88       88 8PP\" 88          \n",
      "\"8a,   ,aa 88 88b,   ,a8\" 88       88 \"8b,   ,aa 88          \n",
      " `\"Ybbd8\"' 88 88`YbbdP\"'  88       88  `\"Ybbd8\"' 88          \n",
      "              88                                             \n",
      "              88           \n",
      "\n"
     ]
    },
    {
     "ename": "NameError",
     "evalue": "name 'shift' is not defined",
     "output_type": "error",
     "traceback": [
      "\u001b[1;31m---------------------------------------------------------------------------\u001b[0m",
      "\u001b[1;31mNameError\u001b[0m                                 Traceback (most recent call last)",
      "Cell \u001b[1;32mIn [34], line 6\u001b[0m\n\u001b[0;32m      3\u001b[0m \u001b[39mprint\u001b[39m(art\u001b[39m.\u001b[39mlogo)\n\u001b[0;32m      5\u001b[0m \u001b[39m#ikinci adım\u001b[39;00m\n\u001b[1;32m----> 6\u001b[0m shift\u001b[39m=\u001b[39mshift\u001b[39m%\u001b[39m\u001b[39m26\u001b[39m\n",
      "\u001b[1;31mNameError\u001b[0m: name 'shift' is not defined"
     ]
    }
   ],
   "source": [
    "#ilk adım\n",
    "import art \n",
    "print(art.logo)\n",
    "\n",
    "#ikinci adım\n",
    "#shift=shift%26\n"
   ]
  },
  {
   "cell_type": "code",
   "execution_count": 23,
   "metadata": {},
   "outputs": [
    {
     "ename": "ValueError",
     "evalue": "' ' is not in list",
     "output_type": "error",
     "traceback": [
      "\u001b[1;31m---------------------------------------------------------------------------\u001b[0m",
      "\u001b[1;31mValueError\u001b[0m                                Traceback (most recent call last)",
      "Cell \u001b[1;32mIn [23], line 29\u001b[0m\n\u001b[0;32m     26\u001b[0m                 kayanMetin\u001b[39m+\u001b[39m\u001b[39m=\u001b[39mi\n\u001b[0;32m     27\u001b[0m          \u001b[39mprint\u001b[39m(\u001b[39mf\u001b[39m\u001b[39m\"\u001b[39m\u001b[39m kodlanan metin : \u001b[39m\u001b[39m{\u001b[39;00mkayanMetin\u001b[39m}\u001b[39;00m\u001b[39m\"\u001b[39m)\n\u001b[1;32m---> 29\u001b[0m ceaser()\n",
      "Cell \u001b[1;32mIn [23], line 12\u001b[0m, in \u001b[0;36mceaser\u001b[1;34m()\u001b[0m\n\u001b[0;32m     10\u001b[0m \u001b[39mfor\u001b[39;00m i \u001b[39min\u001b[39;00m text:\n\u001b[0;32m     11\u001b[0m     \u001b[39mif\u001b[39;00m i \u001b[39min\u001b[39;00m text:\n\u001b[1;32m---> 12\u001b[0m         pozisyon\u001b[39m=\u001b[39malfabe\u001b[39m.\u001b[39;49mindex(i)\n\u001b[0;32m     13\u001b[0m         yeniPoz\u001b[39m=\u001b[39mpozisyon\u001b[39m+\u001b[39mshift\n\u001b[0;32m     14\u001b[0m         kayanMetin\u001b[39m+\u001b[39m\u001b[39m=\u001b[39malfabe[yeniPoz]\n",
      "\u001b[1;31mValueError\u001b[0m: ' ' is not in list"
     ]
    }
   ],
   "source": [
    "def ceaser():\n",
    "\n",
    "    alfabe = ['a', 'b', 'c', 'd', 'e', 'f', 'g', 'h', 'i', 'j', 'k', 'l', 'm', 'n', 'o', 'p', 'q', 'r', 's', 't', 'u', 'v', 'w', 'x', 'y', 'z']\n",
    "\n",
    "    direction = input(\"Type 'encode' to encrypt, type 'decode' to decrypt:\\n\").lower()\n",
    "    text = input(\"Type your message:\\n\").lower()\n",
    "    shift = int(input(\"Type the shift number:\\n\"))\n",
    "    kayanMetin=\"\"\n",
    "    \n",
    "    if direction==\"encode\":\n",
    "        for i in text:\n",
    "            if i in text:\n",
    "                pozisyon=alfabe.index(i)\n",
    "                yeniPoz=pozisyon+shift\n",
    "                kayanMetin+=alfabe[yeniPoz]\n",
    "            elif i in text:\n",
    "                kayanMetin+=i\n",
    "        print(f\" kodlanan metin : {kayanMetin}\")\n",
    "    \n",
    "    elif direction==\"decode\":\n",
    "         for i in text:\n",
    "            if i in text:\n",
    "                pozisyon=alfabe.index(i)\n",
    "                yeniPoz=pozisyon+shift\n",
    "                kayanMetin+=alfabe[yeniPoz]\n",
    "            elif i in text:\n",
    "                kayanMetin+=i\n",
    "         print(f\" kodlanan metin : {kayanMetin}\")\n",
    "             \n",
    "ceaser()\n"
   ]
  },
  {
   "cell_type": "code",
   "execution_count": null,
   "metadata": {},
   "outputs": [],
   "source": [
    "def ceaser():\n",
    "    #alfabede bulunan z harfinin devamı için 2 kere tekrar ettik.\n",
    "    alfabe = ['a', 'b', 'c', 'd', 'e', 'f', 'g', 'h', 'i', 'j', 'k', 'l', 'm', 'n', 'o', 'p', 'q', 'r', 's', 't', 'u', 'v', 'w', 'x', 'y', 'z','a', 'b', 'c', 'd', 'e', 'f', 'g', 'h', 'i', 'j', 'k', 'l', 'm', 'n', 'o', 'p', 'q', 'r', 's', 't', 'u', 'v', 'w', 'x', 'y', 'z']\n",
    "\n",
    "    direction = input(\"Type 'encode' to encrypt, type 'decode' to decrypt:\\n\").lower()\n",
    "    text = input(\"Type your message:\\n\").lower()\n",
    "    shift = int(input(\"Type the shift number:\\n\"))\n",
    "    kayanMetin=\"\"\n",
    "    shift=shift%26\n",
    "    \n",
    "devam=True\n",
    "while devam:\n",
    "        alfabe = ['a', 'b', 'c', 'd', 'e', 'f', 'g', 'h', 'i', 'j', 'k', 'l', 'm', 'n', 'o', 'p', 'q', 'r', 's', 't', 'u', 'v', 'w', 'x', 'y', 'z','a', 'b', 'c', 'd', 'e', 'f', 'g', 'h', 'i', 'j', 'k', 'l', 'm', 'n', 'o', 'p', 'q', 'r', 's', 't', 'u', 'v', 'w', 'x', 'y', 'z']\n",
    "\n",
    "        direction = input(\"Type 'encode' to encrypt, type 'decode' to decrypt:\\n\").lower()\n",
    "        text = input(\"Type your message:\\n\").lower()\n",
    "        shift = int(input(\"Type the shift number:\\n\"))\n",
    "        kayanMetin=\"\"\n",
    "        shift=shift%26\n",
    "        if devam==True:\n",
    "    #2.adım\n",
    "            if direction==\"encode\":\n",
    "                for i in text:\n",
    "                    if i in alfabe:\n",
    "                        pozisyon=alfabe.index(i)\n",
    "                        yeniPoz=pozisyon+shift\n",
    "                        kayanMetin+=alfabe[yeniPoz]\n",
    "                    else:\n",
    "                        kayanMetin+=i\n",
    "                print(f\"kodlanmış metniniz : {kayanMetin}\")\n",
    "            elif direction==\"decode\":\n",
    "                for i in text:\n",
    "                    if i in alfabe:\n",
    "                        pozisyon=alfabe.index(i)\n",
    "                        yeniPoz=pozisyon-shift\n",
    "                        kayanMetin+=alfabe[yeniPoz]\n",
    "                    else:\n",
    "                        kayanMetin+=i\n",
    "                print(f\" kodlanan metin : {kayanMetin}\")\n",
    "\n",
    "        ceaser()               \n",
    "        dev=input(\"devamsa E durmak için H basın :\" ).lower()\n",
    "        if dev==\"e\":\n",
    "                    devam==True\n",
    "        elif dev==\"h\":\n",
    "                    devam==False\n",
    "                    print(\"uygulama bitmiştir.\")\n",
    "\n",
    "\n",
    "\n"
   ]
  },
  {
   "cell_type": "code",
   "execution_count": 37,
   "metadata": {},
   "outputs": [
    {
     "name": "stdout",
     "output_type": "stream",
     "text": [
      "           \n",
      " ,adPPYba, ,adPPYYba,  ,adPPYba, ,adPPYba, ,adPPYYba, 8b,dPPYba,  \n",
      "a8\"     \"\" \"\"     `Y8 a8P_____88 I8[    \"\" \"\"     `Y8 88P'   \"Y8  \n",
      "8b         ,adPPPPP88 8PP\"  `\"Y8ba,  ,adPPPPP88 88          \n",
      "\"8a,   ,aa 88,    ,88 \"8b,   ,aa aa    ]8I 88,    ,88 88          \n",
      " `\"Ybbd8\"' `\"8bbdP\"Y8  `\"Ybbd8\"' `\"YbbdP\"' `\"8bbdP\"Y8 88   \n",
      "            88             88                                 \n",
      "           \"\"             88                                 \n",
      "                          88                                 \n",
      " ,adPPYba, 88 8b,dPPYba,  88,dPPYba,   ,adPPYba, 8b,dPPYba,  \n",
      "a8\"     \"\" 88 88P'    \"8a 88P'    \"8a a8P_____88 88P'   \"Y8  \n",
      "8b         88 88       d8 88       88 8PP\" 88          \n",
      "\"8a,   ,aa 88 88b,   ,a8\" 88       88 \"8b,   ,aa 88          \n",
      " `\"Ybbd8\"' 88 88`YbbdP\"'  88       88  `\"Ybbd8\"' 88          \n",
      "              88                                             \n",
      "              88           \n",
      "\n",
      "kodlanmış metniniz : lipps\n",
      " kodlanan metin : hello\n",
      "uygulama bitmiştir.\n"
     ]
    }
   ],
   "source": [
    "alfabe = ['a', 'b', 'c', 'd', 'e', 'f', 'g', 'h', 'i', 'j', 'k', 'l', 'm', 'n', 'o', 'p', 'q', 'r', 's', 't', 'u', 'v', 'w', 'x', 'y', 'z','a', 'b', 'c', 'd', 'e', 'f', 'g', 'h', 'i', 'j', 'k', 'l', 'm', 'n', 'o', 'p', 'q', 'r', 's', 't', 'u', 'v', 'w', 'x', 'y', 'z']\n",
    "print(art.logo)\n",
    "def ceaser():\n",
    "    \n",
    "    #alfabede bulunan z harfinin devamı için 2 kere tekrar ettik.\n",
    "    \n",
    "    \n",
    "    devam=True\n",
    "    while devam==True:\n",
    "        \n",
    "        direction = input(\"Type 'encode' to encrypt, type 'decode' to decrypt:\\n\").lower()\n",
    "        text = input(\"Type your message:\\n\").lower()\n",
    "        shift = int(input(\"Type the shift number:\\n\"))\n",
    "        kayanMetin=\"\"\n",
    "        shift=shift%26\n",
    "        kayanMetin=\"\"\n",
    "            \n",
    "        if devam==True:\n",
    "        #2.adım\n",
    "                if direction==\"encode\":\n",
    "                    for i in text:\n",
    "                        if i in alfabe:\n",
    "                            pozisyon=alfabe.index(i)\n",
    "                            yeniPoz=pozisyon+shift\n",
    "                            kayanMetin+=alfabe[yeniPoz]\n",
    "                        else:\n",
    "                            kayanMetin+=i\n",
    "                    print(f\"kodlanmış metniniz : {kayanMetin}\")\n",
    "                elif direction==\"decode\":\n",
    "                    for i in text:\n",
    "                        if i in alfabe:\n",
    "                            pozisyon=alfabe.index(i)\n",
    "                            yeniPoz=pozisyon-shift\n",
    "                            kayanMetin+=alfabe[yeniPoz]\n",
    "                        else:\n",
    "                            kayanMetin+=i\n",
    "                    print(f\" kodlanan metin : {kayanMetin}\")\n",
    "\n",
    "\n",
    "    \n",
    "                        \n",
    "        dev=input(\"devamsa E durmak için H basın :\" ).lower()\n",
    "        if dev==\"yes\":\n",
    "                    devam=True  \n",
    "        else:\n",
    "                devam= False\n",
    "                print(\"uygulama bitmiştir.\")\n",
    "\n",
    "ceaser() \n",
    "\n"
   ]
  }
 ],
 "metadata": {
  "kernelspec": {
   "display_name": "Python 3",
   "language": "python",
   "name": "python3"
  },
  "language_info": {
   "codemirror_mode": {
    "name": "ipython",
    "version": 3
   },
   "file_extension": ".py",
   "mimetype": "text/x-python",
   "name": "python",
   "nbconvert_exporter": "python",
   "pygments_lexer": "ipython3",
   "version": "3.10.9"
  },
  "orig_nbformat": 4,
  "vscode": {
   "interpreter": {
    "hash": "f9efe8616df34b93a5b20e3cc165fe4f9bfdf6f621702230f6a4e020f92c6ee2"
   }
  }
 },
 "nbformat": 4,
 "nbformat_minor": 2
}
